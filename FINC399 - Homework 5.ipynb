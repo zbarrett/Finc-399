{
 "cells": [
  {
   "cell_type": "markdown",
   "metadata": {},
   "source": [
    "__Group Member Names:__ Zach Barrett, Ashton Hansen\n",
    "\n",
    "\n",
    "---"
   ]
  },
  {
   "cell_type": "markdown",
   "metadata": {},
   "source": [
    "# Homework 5\n",
    "__Guideline:__ \n",
    "* Please write the names of all group members to the __\"Group Member Names:\"__ line above. \n",
    "* For the questions that require verbal answers, please answer them in their respective answer cells. \n",
    "* For the questions that require code, if your code doesn't work, please include a comment describing your algorithm (if code works well, no explanation is needed). \n",
    "* Questions 1 and 4 are each worth 2 points. Questions 2 and 3 are each worth 3 points.\n",
    "* This homework is due on __Apr. 28, 2021, 5:30 pm.__ You need to upload your completed homework assignment to Sakai as a Jupyter Notebook file (.ipynb) until that time.\n",
    "---"
   ]
  },
  {
   "cell_type": "code",
   "execution_count": 1,
   "metadata": {},
   "outputs": [],
   "source": [
    "import numpy as np   \n",
    "import numpy_financial as npf   # numpy-financial. If you don't have it installed, run >>> pip install numpy-financial\n",
    "import pandas as pd\n",
    "import datetime as dt  \n",
    "import pandas_datareader.data as web    \n",
    "import matplotlib as mpl                \n",
    "import matplotlib.pyplot as plt\n",
    "import math\n",
    "import numpy.random as npr  \n",
    "from scipy import stats   \n",
    "from statsmodels import regression      \n",
    "import statsmodels.api as sm"
   ]
  },
  {
   "cell_type": "markdown",
   "metadata": {},
   "source": [
    "---"
   ]
  },
  {
   "cell_type": "markdown",
   "metadata": {},
   "source": [
    "## Question 1:\n",
    "Consider the bond with the following features that pays annual coupons:\n",
    "* __Face value__ : 100\n",
    "* __Coupon rate__ : 0.08\n",
    "* __Coupon frequency__: 1\n",
    "* __Time to maturity__: 20\n",
    "\n",
    "Suppose that the interest rate (YTM) equals 7%. "
   ]
  },
  {
   "cell_type": "markdown",
   "metadata": {},
   "source": [
    "a) Write a function that calculates the bond's price. What is the bond's current price?"
   ]
  },
  {
   "cell_type": "code",
   "execution_count": 2,
   "metadata": {},
   "outputs": [],
   "source": [
    "def bondPriceCalculator(coupon_rate, interest_rate, frequency_of_payments, years_to_maturity, face_value):\n",
    "    coupon_payment = coupon_rate * face_value\n",
    "    coupon_leg = coupon_payment / interest_rate * (1 - (1 + interest_rate / frequency_of_payments) ** (-1 * frequency_of_payments * years_to_maturity))\n",
    "    face_leg = face_value / ((1 + interest_rate / frequency_of_payments) ** (frequency_of_payments * years_to_maturity))\n",
    "    bond_price = coupon_leg + face_leg\n",
    "    return bond_price\n"
   ]
  },
  {
   "cell_type": "code",
   "execution_count": 3,
   "metadata": {},
   "outputs": [
    {
     "name": "stdout",
     "output_type": "stream",
     "text": [
      "The aforementioned bond's price is :  110.59401424551616\n"
     ]
    }
   ],
   "source": [
    "print('The aforementioned bond\\'s price is : ', bondPriceCalculator(.08, .07, 1, 20, 100))"
   ]
  },
  {
   "cell_type": "markdown",
   "metadata": {},
   "source": [
    "b) Construct a dataframe that shows the bond price for all the scenarios where interest rate (YTM) varies between 7% to 9%, by 0.1% increments (0.070, 0.071, ..., 0.088, 0.089, 0.090). Basically, your table will have 21 rows, with 4 columns for bond characteristics, 1 column for interest rate (YTM), and 1 column for the bond prices. The only varying columns will be interest rate (YTM) and corresponding bond price. "
   ]
  },
  {
   "cell_type": "code",
   "execution_count": 4,
   "metadata": {},
   "outputs": [
    {
     "data": {
      "text/html": [
       "<div>\n",
       "<style scoped>\n",
       "    .dataframe tbody tr th:only-of-type {\n",
       "        vertical-align: middle;\n",
       "    }\n",
       "\n",
       "    .dataframe tbody tr th {\n",
       "        vertical-align: top;\n",
       "    }\n",
       "\n",
       "    .dataframe thead th {\n",
       "        text-align: right;\n",
       "    }\n",
       "</style>\n",
       "<table border=\"1\" class=\"dataframe\">\n",
       "  <thead>\n",
       "    <tr style=\"text-align: right;\">\n",
       "      <th></th>\n",
       "      <th>years_to_maturity</th>\n",
       "      <th>coupon_rate</th>\n",
       "      <th>interest_rate</th>\n",
       "      <th>face_value</th>\n",
       "      <th>frequency_of_payments</th>\n",
       "      <th>bond_price</th>\n",
       "    </tr>\n",
       "  </thead>\n",
       "  <tbody>\n",
       "    <tr>\n",
       "      <th>0</th>\n",
       "      <td>0.070</td>\n",
       "      <td>0.08</td>\n",
       "      <td>0.07</td>\n",
       "      <td>100</td>\n",
       "      <td>1</td>\n",
       "      <td>100.067499</td>\n",
       "    </tr>\n",
       "    <tr>\n",
       "      <th>1</th>\n",
       "      <td>0.071</td>\n",
       "      <td>0.08</td>\n",
       "      <td>0.07</td>\n",
       "      <td>100</td>\n",
       "      <td>1</td>\n",
       "      <td>100.068461</td>\n",
       "    </tr>\n",
       "    <tr>\n",
       "      <th>2</th>\n",
       "      <td>0.072</td>\n",
       "      <td>0.08</td>\n",
       "      <td>0.07</td>\n",
       "      <td>100</td>\n",
       "      <td>1</td>\n",
       "      <td>100.069423</td>\n",
       "    </tr>\n",
       "    <tr>\n",
       "      <th>3</th>\n",
       "      <td>0.073</td>\n",
       "      <td>0.08</td>\n",
       "      <td>0.07</td>\n",
       "      <td>100</td>\n",
       "      <td>1</td>\n",
       "      <td>100.070384</td>\n",
       "    </tr>\n",
       "    <tr>\n",
       "      <th>4</th>\n",
       "      <td>0.074</td>\n",
       "      <td>0.08</td>\n",
       "      <td>0.07</td>\n",
       "      <td>100</td>\n",
       "      <td>1</td>\n",
       "      <td>100.071346</td>\n",
       "    </tr>\n",
       "    <tr>\n",
       "      <th>5</th>\n",
       "      <td>0.075</td>\n",
       "      <td>0.08</td>\n",
       "      <td>0.07</td>\n",
       "      <td>100</td>\n",
       "      <td>1</td>\n",
       "      <td>100.072308</td>\n",
       "    </tr>\n",
       "    <tr>\n",
       "      <th>6</th>\n",
       "      <td>0.076</td>\n",
       "      <td>0.08</td>\n",
       "      <td>0.07</td>\n",
       "      <td>100</td>\n",
       "      <td>1</td>\n",
       "      <td>100.073269</td>\n",
       "    </tr>\n",
       "    <tr>\n",
       "      <th>7</th>\n",
       "      <td>0.077</td>\n",
       "      <td>0.08</td>\n",
       "      <td>0.07</td>\n",
       "      <td>100</td>\n",
       "      <td>1</td>\n",
       "      <td>100.074231</td>\n",
       "    </tr>\n",
       "    <tr>\n",
       "      <th>8</th>\n",
       "      <td>0.078</td>\n",
       "      <td>0.08</td>\n",
       "      <td>0.07</td>\n",
       "      <td>100</td>\n",
       "      <td>1</td>\n",
       "      <td>100.075192</td>\n",
       "    </tr>\n",
       "    <tr>\n",
       "      <th>9</th>\n",
       "      <td>0.079</td>\n",
       "      <td>0.08</td>\n",
       "      <td>0.07</td>\n",
       "      <td>100</td>\n",
       "      <td>1</td>\n",
       "      <td>100.076154</td>\n",
       "    </tr>\n",
       "    <tr>\n",
       "      <th>10</th>\n",
       "      <td>0.080</td>\n",
       "      <td>0.08</td>\n",
       "      <td>0.07</td>\n",
       "      <td>100</td>\n",
       "      <td>1</td>\n",
       "      <td>100.077115</td>\n",
       "    </tr>\n",
       "    <tr>\n",
       "      <th>11</th>\n",
       "      <td>0.081</td>\n",
       "      <td>0.08</td>\n",
       "      <td>0.07</td>\n",
       "      <td>100</td>\n",
       "      <td>1</td>\n",
       "      <td>100.078077</td>\n",
       "    </tr>\n",
       "    <tr>\n",
       "      <th>12</th>\n",
       "      <td>0.082</td>\n",
       "      <td>0.08</td>\n",
       "      <td>0.07</td>\n",
       "      <td>100</td>\n",
       "      <td>1</td>\n",
       "      <td>100.079038</td>\n",
       "    </tr>\n",
       "    <tr>\n",
       "      <th>13</th>\n",
       "      <td>0.083</td>\n",
       "      <td>0.08</td>\n",
       "      <td>0.07</td>\n",
       "      <td>100</td>\n",
       "      <td>1</td>\n",
       "      <td>100.079999</td>\n",
       "    </tr>\n",
       "    <tr>\n",
       "      <th>14</th>\n",
       "      <td>0.084</td>\n",
       "      <td>0.08</td>\n",
       "      <td>0.07</td>\n",
       "      <td>100</td>\n",
       "      <td>1</td>\n",
       "      <td>100.080960</td>\n",
       "    </tr>\n",
       "    <tr>\n",
       "      <th>15</th>\n",
       "      <td>0.085</td>\n",
       "      <td>0.08</td>\n",
       "      <td>0.07</td>\n",
       "      <td>100</td>\n",
       "      <td>1</td>\n",
       "      <td>100.081921</td>\n",
       "    </tr>\n",
       "    <tr>\n",
       "      <th>16</th>\n",
       "      <td>0.086</td>\n",
       "      <td>0.08</td>\n",
       "      <td>0.07</td>\n",
       "      <td>100</td>\n",
       "      <td>1</td>\n",
       "      <td>100.082882</td>\n",
       "    </tr>\n",
       "    <tr>\n",
       "      <th>17</th>\n",
       "      <td>0.087</td>\n",
       "      <td>0.08</td>\n",
       "      <td>0.07</td>\n",
       "      <td>100</td>\n",
       "      <td>1</td>\n",
       "      <td>100.083843</td>\n",
       "    </tr>\n",
       "    <tr>\n",
       "      <th>18</th>\n",
       "      <td>0.088</td>\n",
       "      <td>0.08</td>\n",
       "      <td>0.07</td>\n",
       "      <td>100</td>\n",
       "      <td>1</td>\n",
       "      <td>100.084804</td>\n",
       "    </tr>\n",
       "    <tr>\n",
       "      <th>19</th>\n",
       "      <td>0.089</td>\n",
       "      <td>0.08</td>\n",
       "      <td>0.07</td>\n",
       "      <td>100</td>\n",
       "      <td>1</td>\n",
       "      <td>100.085765</td>\n",
       "    </tr>\n",
       "    <tr>\n",
       "      <th>20</th>\n",
       "      <td>0.090</td>\n",
       "      <td>0.08</td>\n",
       "      <td>0.07</td>\n",
       "      <td>100</td>\n",
       "      <td>1</td>\n",
       "      <td>100.086725</td>\n",
       "    </tr>\n",
       "  </tbody>\n",
       "</table>\n",
       "</div>"
      ],
      "text/plain": [
       "    years_to_maturity  coupon_rate  interest_rate  face_value  \\\n",
       "0               0.070         0.08           0.07         100   \n",
       "1               0.071         0.08           0.07         100   \n",
       "2               0.072         0.08           0.07         100   \n",
       "3               0.073         0.08           0.07         100   \n",
       "4               0.074         0.08           0.07         100   \n",
       "5               0.075         0.08           0.07         100   \n",
       "6               0.076         0.08           0.07         100   \n",
       "7               0.077         0.08           0.07         100   \n",
       "8               0.078         0.08           0.07         100   \n",
       "9               0.079         0.08           0.07         100   \n",
       "10              0.080         0.08           0.07         100   \n",
       "11              0.081         0.08           0.07         100   \n",
       "12              0.082         0.08           0.07         100   \n",
       "13              0.083         0.08           0.07         100   \n",
       "14              0.084         0.08           0.07         100   \n",
       "15              0.085         0.08           0.07         100   \n",
       "16              0.086         0.08           0.07         100   \n",
       "17              0.087         0.08           0.07         100   \n",
       "18              0.088         0.08           0.07         100   \n",
       "19              0.089         0.08           0.07         100   \n",
       "20              0.090         0.08           0.07         100   \n",
       "\n",
       "    frequency_of_payments  bond_price  \n",
       "0                       1  100.067499  \n",
       "1                       1  100.068461  \n",
       "2                       1  100.069423  \n",
       "3                       1  100.070384  \n",
       "4                       1  100.071346  \n",
       "5                       1  100.072308  \n",
       "6                       1  100.073269  \n",
       "7                       1  100.074231  \n",
       "8                       1  100.075192  \n",
       "9                       1  100.076154  \n",
       "10                      1  100.077115  \n",
       "11                      1  100.078077  \n",
       "12                      1  100.079038  \n",
       "13                      1  100.079999  \n",
       "14                      1  100.080960  \n",
       "15                      1  100.081921  \n",
       "16                      1  100.082882  \n",
       "17                      1  100.083843  \n",
       "18                      1  100.084804  \n",
       "19                      1  100.085765  \n",
       "20                      1  100.086725  "
      ]
     },
     "execution_count": 4,
     "metadata": {},
     "output_type": "execute_result"
    }
   ],
   "source": [
    "# getting YTMs\n",
    "ytm_arr = np.linspace(.07, .09, num=21)\n",
    "\n",
    "# building df\n",
    "part_a_df = pd.DataFrame()\n",
    "\n",
    "part_a_df['years_to_maturity'] = ytm_arr\n",
    "part_a_df['coupon_rate'] = .08\n",
    "part_a_df['interest_rate'] = .07\n",
    "part_a_df['face_value'] = 100\n",
    "part_a_df['frequency_of_payments'] = 1\n",
    "part_a_df['bond_price'] = bondPriceCalculator(part_a_df['coupon_rate'], part_a_df['interest_rate'], part_a_df['frequency_of_payments'],\n",
    "                                              part_a_df['years_to_maturity'], part_a_df['face_value'])\n",
    "\n",
    "part_a_df"
   ]
  },
  {
   "cell_type": "markdown",
   "metadata": {},
   "source": [
    "---"
   ]
  },
  {
   "cell_type": "markdown",
   "metadata": {},
   "source": [
    "## Question 2:\n",
    "Consider a mortgage loan with the following characteristics:\n",
    "* __Total principal amount__: 400,000\n",
    "* __Interest rate__ : 5%\n",
    "* __Years to maturity__: 15 years\n",
    "* __Frequency__: 12 (monthly payments)"
   ]
  },
  {
   "cell_type": "markdown",
   "metadata": {},
   "source": [
    "a) Write a function that prepares the amortization schedule for this loan. (let's call this offer a)."
   ]
  },
  {
   "cell_type": "code",
   "execution_count": 3,
   "metadata": {},
   "outputs": [],
   "source": [
    "def amortizationSchedule(total_principal, interest_rate, maturity, frequency):\n",
    "    schedule = np.arange(1, maturity * frequency + 1, 1)\n",
    "\n",
    "    df = pd.DataFrame(index = schedule, columns = ['Payment', 'Principal payment', 'Interest payment'])\n",
    "    df.index.name = 'Period'\n",
    "    \n",
    "    df['Payment'] = npf.pmt(interest_rate / frequency, maturity * frequency, total_principal)\n",
    "    df['Principal payment'] = npf.ppmt(interest_rate / frequency, df.index, maturity * frequency, total_principal)\n",
    "    df['Interest payment'] = npf.ipmt(interest_rate / frequency, df.index, maturity * frequency, total_principal)\n",
    "    \n",
    "    return df"
   ]
  },
  {
   "cell_type": "code",
   "execution_count": 4,
   "metadata": {},
   "outputs": [
    {
     "data": {
      "text/html": [
       "<div>\n",
       "<style scoped>\n",
       "    .dataframe tbody tr th:only-of-type {\n",
       "        vertical-align: middle;\n",
       "    }\n",
       "\n",
       "    .dataframe tbody tr th {\n",
       "        vertical-align: top;\n",
       "    }\n",
       "\n",
       "    .dataframe thead th {\n",
       "        text-align: right;\n",
       "    }\n",
       "</style>\n",
       "<table border=\"1\" class=\"dataframe\">\n",
       "  <thead>\n",
       "    <tr style=\"text-align: right;\">\n",
       "      <th></th>\n",
       "      <th>Payment</th>\n",
       "      <th>Principal payment</th>\n",
       "      <th>Interest payment</th>\n",
       "    </tr>\n",
       "    <tr>\n",
       "      <th>Period</th>\n",
       "      <th></th>\n",
       "      <th></th>\n",
       "      <th></th>\n",
       "    </tr>\n",
       "  </thead>\n",
       "  <tbody>\n",
       "    <tr>\n",
       "      <th>1</th>\n",
       "      <td>-3163.174507</td>\n",
       "      <td>-1496.507840</td>\n",
       "      <td>-1666.666667</td>\n",
       "    </tr>\n",
       "    <tr>\n",
       "      <th>2</th>\n",
       "      <td>-3163.174507</td>\n",
       "      <td>-1502.743290</td>\n",
       "      <td>-1660.431217</td>\n",
       "    </tr>\n",
       "    <tr>\n",
       "      <th>3</th>\n",
       "      <td>-3163.174507</td>\n",
       "      <td>-1509.004720</td>\n",
       "      <td>-1654.169787</td>\n",
       "    </tr>\n",
       "    <tr>\n",
       "      <th>4</th>\n",
       "      <td>-3163.174507</td>\n",
       "      <td>-1515.292240</td>\n",
       "      <td>-1647.882267</td>\n",
       "    </tr>\n",
       "    <tr>\n",
       "      <th>5</th>\n",
       "      <td>-3163.174507</td>\n",
       "      <td>-1521.605957</td>\n",
       "      <td>-1641.568550</td>\n",
       "    </tr>\n",
       "    <tr>\n",
       "      <th>...</th>\n",
       "      <td>...</td>\n",
       "      <td>...</td>\n",
       "      <td>...</td>\n",
       "    </tr>\n",
       "    <tr>\n",
       "      <th>176</th>\n",
       "      <td>-3163.174507</td>\n",
       "      <td>-3098.090839</td>\n",
       "      <td>-65.083668</td>\n",
       "    </tr>\n",
       "    <tr>\n",
       "      <th>177</th>\n",
       "      <td>-3163.174507</td>\n",
       "      <td>-3110.999551</td>\n",
       "      <td>-52.174956</td>\n",
       "    </tr>\n",
       "    <tr>\n",
       "      <th>178</th>\n",
       "      <td>-3163.174507</td>\n",
       "      <td>-3123.962049</td>\n",
       "      <td>-39.212458</td>\n",
       "    </tr>\n",
       "    <tr>\n",
       "      <th>179</th>\n",
       "      <td>-3163.174507</td>\n",
       "      <td>-3136.978558</td>\n",
       "      <td>-26.195949</td>\n",
       "    </tr>\n",
       "    <tr>\n",
       "      <th>180</th>\n",
       "      <td>-3163.174507</td>\n",
       "      <td>-3150.049302</td>\n",
       "      <td>-13.125205</td>\n",
       "    </tr>\n",
       "  </tbody>\n",
       "</table>\n",
       "<p>180 rows × 3 columns</p>\n",
       "</div>"
      ],
      "text/plain": [
       "            Payment  Principal payment  Interest payment\n",
       "Period                                                  \n",
       "1      -3163.174507       -1496.507840      -1666.666667\n",
       "2      -3163.174507       -1502.743290      -1660.431217\n",
       "3      -3163.174507       -1509.004720      -1654.169787\n",
       "4      -3163.174507       -1515.292240      -1647.882267\n",
       "5      -3163.174507       -1521.605957      -1641.568550\n",
       "...             ...                ...               ...\n",
       "176    -3163.174507       -3098.090839        -65.083668\n",
       "177    -3163.174507       -3110.999551        -52.174956\n",
       "178    -3163.174507       -3123.962049        -39.212458\n",
       "179    -3163.174507       -3136.978558        -26.195949\n",
       "180    -3163.174507       -3150.049302        -13.125205\n",
       "\n",
       "[180 rows x 3 columns]"
      ]
     },
     "execution_count": 4,
     "metadata": {},
     "output_type": "execute_result"
    }
   ],
   "source": [
    "offer_a = amortizationSchedule(400000, .05, 15, 12)\n",
    "offer_a"
   ]
  },
  {
   "cell_type": "markdown",
   "metadata": {},
   "source": [
    "b) For the same principal amount, the customer is provided with a competing offer (let's call this offer b) as follows:\n",
    "* __Total principal amount__: 400,000\n",
    "* __Interest rate__ : 7%\n",
    "* __Years to maturity__: 10 years\n",
    "* __Frequency__: 12 (monthly payments)\n",
    "\n",
    "Under which offer the customer pays more total interest? Offer in a) or b)?"
   ]
  },
  {
   "cell_type": "code",
   "execution_count": 5,
   "metadata": {
    "scrolled": true
   },
   "outputs": [
    {
     "data": {
      "text/html": [
       "<div>\n",
       "<style scoped>\n",
       "    .dataframe tbody tr th:only-of-type {\n",
       "        vertical-align: middle;\n",
       "    }\n",
       "\n",
       "    .dataframe tbody tr th {\n",
       "        vertical-align: top;\n",
       "    }\n",
       "\n",
       "    .dataframe thead th {\n",
       "        text-align: right;\n",
       "    }\n",
       "</style>\n",
       "<table border=\"1\" class=\"dataframe\">\n",
       "  <thead>\n",
       "    <tr style=\"text-align: right;\">\n",
       "      <th></th>\n",
       "      <th>Payment</th>\n",
       "      <th>Principal payment</th>\n",
       "      <th>Interest payment</th>\n",
       "    </tr>\n",
       "    <tr>\n",
       "      <th>Period</th>\n",
       "      <th></th>\n",
       "      <th></th>\n",
       "      <th></th>\n",
       "    </tr>\n",
       "  </thead>\n",
       "  <tbody>\n",
       "    <tr>\n",
       "      <th>1</th>\n",
       "      <td>-4644.339169</td>\n",
       "      <td>-2311.005835</td>\n",
       "      <td>-2333.333333</td>\n",
       "    </tr>\n",
       "    <tr>\n",
       "      <th>2</th>\n",
       "      <td>-4644.339169</td>\n",
       "      <td>-2324.486703</td>\n",
       "      <td>-2319.852466</td>\n",
       "    </tr>\n",
       "    <tr>\n",
       "      <th>3</th>\n",
       "      <td>-4644.339169</td>\n",
       "      <td>-2338.046209</td>\n",
       "      <td>-2306.292960</td>\n",
       "    </tr>\n",
       "    <tr>\n",
       "      <th>4</th>\n",
       "      <td>-4644.339169</td>\n",
       "      <td>-2351.684811</td>\n",
       "      <td>-2292.654357</td>\n",
       "    </tr>\n",
       "    <tr>\n",
       "      <th>5</th>\n",
       "      <td>-4644.339169</td>\n",
       "      <td>-2365.402973</td>\n",
       "      <td>-2278.936196</td>\n",
       "    </tr>\n",
       "    <tr>\n",
       "      <th>...</th>\n",
       "      <td>...</td>\n",
       "      <td>...</td>\n",
       "      <td>...</td>\n",
       "    </tr>\n",
       "    <tr>\n",
       "      <th>116</th>\n",
       "      <td>-4644.339169</td>\n",
       "      <td>-4511.217931</td>\n",
       "      <td>-133.121238</td>\n",
       "    </tr>\n",
       "    <tr>\n",
       "      <th>117</th>\n",
       "      <td>-4644.339169</td>\n",
       "      <td>-4537.533369</td>\n",
       "      <td>-106.805800</td>\n",
       "    </tr>\n",
       "    <tr>\n",
       "      <th>118</th>\n",
       "      <td>-4644.339169</td>\n",
       "      <td>-4564.002314</td>\n",
       "      <td>-80.336855</td>\n",
       "    </tr>\n",
       "    <tr>\n",
       "      <th>119</th>\n",
       "      <td>-4644.339169</td>\n",
       "      <td>-4590.625661</td>\n",
       "      <td>-53.713508</td>\n",
       "    </tr>\n",
       "    <tr>\n",
       "      <th>120</th>\n",
       "      <td>-4644.339169</td>\n",
       "      <td>-4617.404310</td>\n",
       "      <td>-26.934858</td>\n",
       "    </tr>\n",
       "  </tbody>\n",
       "</table>\n",
       "<p>120 rows × 3 columns</p>\n",
       "</div>"
      ],
      "text/plain": [
       "            Payment  Principal payment  Interest payment\n",
       "Period                                                  \n",
       "1      -4644.339169       -2311.005835      -2333.333333\n",
       "2      -4644.339169       -2324.486703      -2319.852466\n",
       "3      -4644.339169       -2338.046209      -2306.292960\n",
       "4      -4644.339169       -2351.684811      -2292.654357\n",
       "5      -4644.339169       -2365.402973      -2278.936196\n",
       "...             ...                ...               ...\n",
       "116    -4644.339169       -4511.217931       -133.121238\n",
       "117    -4644.339169       -4537.533369       -106.805800\n",
       "118    -4644.339169       -4564.002314        -80.336855\n",
       "119    -4644.339169       -4590.625661        -53.713508\n",
       "120    -4644.339169       -4617.404310        -26.934858\n",
       "\n",
       "[120 rows x 3 columns]"
      ]
     },
     "execution_count": 5,
     "metadata": {},
     "output_type": "execute_result"
    }
   ],
   "source": [
    "offer_b = amortizationSchedule(400000, .07, 10, 12)\n",
    "offer_b"
   ]
  },
  {
   "cell_type": "code",
   "execution_count": 6,
   "metadata": {},
   "outputs": [
    {
     "name": "stdout",
     "output_type": "stream",
     "text": [
      "Total interest paid in offer A:  169371.41125391188\n",
      "Total interest paid in offer B:  157320.70024939548\n"
     ]
    }
   ],
   "source": [
    "print('Total interest paid in offer A: ', -sum(offer_a['Interest payment']))\n",
    "print('Total interest paid in offer B: ', -sum(offer_b['Interest payment']))"
   ]
  },
  {
   "cell_type": "markdown",
   "metadata": {},
   "source": [
    "## The customer pays more total interest in offer A"
   ]
  },
  {
   "cell_type": "markdown",
   "metadata": {},
   "source": [
    "---"
   ]
  },
  {
   "attachments": {
    "image.png": {
     "image/png": "[encoded data removed]"
    }
   },
   "cell_type": "markdown",
   "metadata": {},
   "source": [
    "## __Question 3:__  \n",
    "Suppose there is stock that is currently trading at 200 dollars per share. A year later, we expect that the stock's price can fall anywhere between 100 to 300 dollars per share. We also have the following European options trading on the stock, each with one year left to expiry:\n",
    "* Five call options, with strike prices and premiums in parentheses: 120 (50), 160 (40), 200 (30), 240 (20), and 280 (10).\n",
    "* Five put options, with strike prices and premiums in parentheses: 120 (10), 160 (20), 200 (30), 240 (40), and 280 (50).\n",
    "\n",
    "The following questions ask the construction of a strategy from the below table. There can be multiple ways to construct a given strategy. Any answer that correctly resembles the asked strategy is accepted.\n",
    "\n",
    "![image.png](attachment:image.png)"
   ]
  },
  {
   "cell_type": "markdown",
   "metadata": {},
   "source": [
    "a) Construct an options strategy that replicates the profits and losses (P\\&L) of Bull Call Spread strategy. Plot the P\\&L diagram."
   ]
  },
  {
   "cell_type": "code",
   "execution_count": 7,
   "metadata": {},
   "outputs": [],
   "source": [
    "def call_pl(stock_range, strike_price, premium = 0):\n",
    "    return np.maximum(stock_range - strike_price, 0) - premium\n",
    "\n",
    "def put_pl(stock_range, strike_price, premium = 0):\n",
    "    return np.maximum(strike_price - stock_range, 0) - premium"
   ]
  },
  {
   "cell_type": "code",
   "execution_count": 8,
   "metadata": {},
   "outputs": [],
   "source": [
    "# creating array with values ranging from 100-300\n",
    "stock_range_arr = np.linspace(100, 300, num=201)"
   ]
  },
  {
   "cell_type": "code",
   "execution_count": 10,
   "metadata": {},
   "outputs": [],
   "source": [
    "# combining options to create bull call spread\n",
    "portfolio_pl = call_pl(stock_range_arr, 160, 40) - call_pl(stock_range_arr, 240, 20)"
   ]
  },
  {
   "cell_type": "code",
   "execution_count": 11,
   "metadata": {},
   "outputs": [
    {
     "data": {
      "image/png": "[encoded data removed]",
      "text/plain": [
       "<Figure size 432x288 with 1 Axes>"
      ]
     },
     "metadata": {
      "needs_background": "light"
     },
     "output_type": "display_data"
    }
   ],
   "source": [
    "# visualizing the bull call spread\n",
    "plt.plot(stock_range_arr, portfolio_pl)\n",
    "plt.title('Bull Call Spread')\n",
    "plt.axhline(y=0, color = 'k', linestyle='--', lw = 1);"
   ]
  },
  {
   "cell_type": "markdown",
   "metadata": {},
   "source": [
    "b) Construct an options strategy that replicates the profits and losses (P\\&L) of Iron Condor strategy. Plot the P\\&L diagram."
   ]
  },
  {
   "cell_type": "code",
   "execution_count": 98,
   "metadata": {},
   "outputs": [
    {
     "data": {
      "image/png": "[encoded data removed]",
      "text/plain": [
       "<Figure size 432x288 with 1 Axes>"
      ]
     },
     "metadata": {
      "needs_background": "light"
     },
     "output_type": "display_data"
    }
   ],
   "source": [
    "# combining options to create bull call spread\n",
    "portfolio_pl = call_pl(stock_range_arr, 160, 40) + put_pl(stock_range_arr, 240, 40) - call_pl(stock_range_arr, 280, 10) - put_pl(stock_range_arr, 120, 10)\n",
    "\n",
    "# visualizing the bull call spread\n",
    "plt.plot(stock_range_arr, portfolio_pl)\n",
    "plt.title('Iron Condor')\n",
    "plt.axhline(y=0, color = 'k', linestyle='--', lw = 1);"
   ]
  },
  {
   "cell_type": "markdown",
   "metadata": {},
   "source": [
    "---"
   ]
  },
  {
   "cell_type": "markdown",
   "metadata": {},
   "source": [
    "## Question 4:\n",
    "a) Define a function that calculates the expected present value of payoffs for European put options. You may refer to the BSM model we used in lecture notes to define this function. (i.e., BSM price of the option)"
   ]
  },
  {
   "cell_type": "code",
   "execution_count": 20,
   "metadata": {},
   "outputs": [],
   "source": [
    "def bsm_option_price(S0, K, T, r, sigma, option = 'call'):\n",
    "    d1 = (np.log(S0 / K) + (r + 0.5 * sigma ** 2) * T) / (sigma * math.sqrt(T))\n",
    "    d2 = (np.log(S0 / K) + (r - 0.5 * sigma ** 2) * T) / (sigma * math.sqrt(T))\n",
    "    if option == 'call':\n",
    "        value = (S0 * stats.norm.cdf(d1, 0.0, 1.0)) - K * np.exp(-r * T) * stats.norm.cdf(d2, 0.0, 1.0)\n",
    "    else: \n",
    "        value =  K * np.exp(-r * T) * stats.norm.cdf(-1*d2, 0.0, 1.0) - (S0 * stats.norm.cdf(-1*d1, 0.0, 1.0))\n",
    "    return value"
   ]
  },
  {
   "cell_type": "markdown",
   "metadata": {},
   "source": [
    "b) Now, suppose we have a stock that can take prices between 0 and 200 dollars until the end of next year. Assume that the stock also has a standard deviation of returns of 30%, and that risk-free rate is 1%.\n",
    "The stock also has a European put option trading on it, that has a strike price of $100 and maturity of 1 year.\n",
    "\n",
    "Plot the payoff diagram of the option today, and on the expiration date. (i.e., option value today vs. at expiry)\n",
    "\n",
    "<font color='gray'>(Note: The put option's today expected payoff may be very similar to or slightly lower than its expiration date payoff at some low stock price levels. This is ok.)</font>"
   ]
  },
  {
   "cell_type": "code",
   "execution_count": 24,
   "metadata": {
    "scrolled": true
   },
   "outputs": [],
   "source": [
    "stock_price_range = np.linspace(0, 200, 201)"
   ]
  },
  {
   "cell_type": "code",
   "execution_count": 31,
   "metadata": {},
   "outputs": [
    {
     "name": "stderr",
     "output_type": "stream",
     "text": [
      "C:\\space_errors\\Anaconda3\\lib\\site-packages\\ipykernel_launcher.py:2: RuntimeWarning: divide by zero encountered in log\n",
      "  \n",
      "C:\\space_errors\\Anaconda3\\lib\\site-packages\\ipykernel_launcher.py:3: RuntimeWarning: divide by zero encountered in log\n",
      "  This is separate from the ipykernel package so we can avoid doing imports until\n"
     ]
    },
    {
     "data": {
      "image/png": "[encoded data removed]",
      "text/plain": [
       "<Figure size 864x576 with 1 Axes>"
      ]
     },
     "metadata": {
      "needs_background": "light"
     },
     "output_type": "display_data"
    }
   ],
   "source": [
    "bsm_prices = bsm_option_price(S0=stock_price_range, K=100, T=1, r=.01, sigma=.3)\n",
    "portfolio_pl = call_pl(stock_price_range, 100)\n",
    "\n",
    "plt.figure(figsize = (12, 8))\n",
    "plt.plot(stock_price_range, bsm_prices, portfolio_pl)\n",
    "plt.axhline(y=0, color = 'k', linestyle='--', lw = 1);"
   ]
  },
  {
   "cell_type": "markdown",
   "metadata": {},
   "source": [
    "---"
   ]
  }
 ],
 "metadata": {
  "kernelspec": {
   "display_name": "Python 3",
   "language": "python",
   "name": "python3"
  },
  "language_info": {
   "codemirror_mode": {
    "name": "ipython",
    "version": 3
   },
   "file_extension": ".py",
   "mimetype": "text/x-python",
   "name": "python",
   "nbconvert_exporter": "python",
   "pygments_lexer": "ipython3",
   "version": "3.7.4"
  }
 },
 "nbformat": 4,
 "nbformat_minor": 4
}
