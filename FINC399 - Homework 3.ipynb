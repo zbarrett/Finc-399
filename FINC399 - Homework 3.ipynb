{
 "cells": [
  {
   "cell_type": "markdown",
   "metadata": {},
   "source": [
    "__Group Member Names:__ Zach Barrett, Ashton Hansen\n",
    "\n",
    "\n",
    "---"
   ]
  },
  {
   "cell_type": "markdown",
   "metadata": {},
   "source": [
    "# Homework 3\n",
    "__Guidelines:__ \n",
    "* Please write the names of all group members to the __\"Group Member Names:\"__ line above. \n",
    "* This assignment comes with a data file that is required to complete it. Download this data file (__HW3_Data.xlsx__) together with this assignment.\n",
    "* For the questions that require verbal answers, please answer them in their respective answer cells. \n",
    "* For the questions that require code, if your code doesn't work, please include a comment describing your algorithm (if code works well, no explanation is needed). \n",
    "* This homework is due on __Mar. 24, 2021, 5:30 pm.__ You need to upload your completed homework assignment to Sakai as a Jupyter Notebook file (.ipynb) until that time.\n",
    "---"
   ]
  },
  {
   "cell_type": "code",
   "execution_count": 1,
   "metadata": {},
   "outputs": [],
   "source": [
    "import numpy as np   # Run this cell to import these packages before writing your code, as they will be needed.\n",
    "import pandas as pd\n",
    "import datetime as dt                            # Date formats\n",
    "import pandas as pd\n",
    "import datetime as dt\n",
    "import pandas_datareader.data as web             # Downloading data from web\n",
    "import matplotlib as mpl                         # Plots\n",
    "import matplotlib.pyplot as plt"
   ]
  },
  {
   "cell_type": "markdown",
   "metadata": {},
   "source": [
    "---"
   ]
  },
  {
   "cell_type": "markdown",
   "metadata": {},
   "source": [
    "## Question 1"
   ]
  },
  {
   "cell_type": "markdown",
   "metadata": {},
   "source": [
    "Construct a dataframe as follows.\n",
    "\n",
    "* Column 1: 20 random integers between 1 and 20, inclusive.\n",
    "* Column 2: All 20 numbers from 1 to 20. (1,2,3,...,20)\n",
    "* Column 3: Difference of Column 1 - Column 2.\n",
    "\n",
    "Finally, calculate the mean and standard deviation of column 3."
   ]
  },
  {
   "cell_type": "code",
   "execution_count": 2,
   "metadata": {},
   "outputs": [
    {
     "name": "stdout",
     "output_type": "stream",
     "text": [
      "Mean of col 3:  -0.3\n",
      "Std. Deviation of col 3:  8.391066678319271\n"
     ]
    }
   ],
   "source": [
    "df = pd.DataFrame()\n",
    "\n",
    "df['1'] = [np.random.randint(1, 21) for i in range(20)]  # rand values\n",
    "df['2'] = [i+1 for i in range(20)]  # 1-20\n",
    "\n",
    "df['3'] = df['1'] - df['2'] # calculating differences\n",
    "\n",
    "# calculating statistics\n",
    "print('Mean of col 3: ', np.mean(df['3']))\n",
    "print('Std. Deviation of col 3: ', np.std(df['3']))"
   ]
  },
  {
   "cell_type": "markdown",
   "metadata": {},
   "source": [
    "---"
   ]
  },
  {
   "cell_type": "markdown",
   "metadata": {},
   "source": [
    "## Question 2\n",
    "Consider the following data, provided for several investments. \n",
    "\n",
    "Data 1 (inv_info): For each investment following information is provided: Its investment ID, its current present value (__pv__), its yearly rate of return (__r__), and investment term in years (__t__).\n",
    "\n",
    "Data 2 (inv_target): In a separate data frame, you also have access the target level of each investment.\n",
    "\n",
    "Write a program that merges these two data, and then uses the function you have constructed in Homework 2 to calculate the __future values__ of investments. (Feel free the define future value function here too; if you have concerns about how to define it, please check the HW2-Q1 solution.)\n",
    "\n",
    "The program will compare the future value with target level. Finally, your program should introduce another new column to data that indicates whether the investment will reach its target in future. The column will be either __'Yes'__ or __'No'__ depending on if the future value of the investment reaches or exceeds the target level. (You may want to use np.where() method to construct this column.)"
   ]
  },
  {
   "cell_type": "code",
   "execution_count": 3,
   "metadata": {
    "scrolled": true
   },
   "outputs": [
    {
     "name": "stdout",
     "output_type": "stream",
     "text": [
      "       pv     r   t Investment ID\n",
      "0  100000  0.10  10          Inv1\n",
      "1  200000  0.07   5          Inv2\n",
      "2  150000  0.15  12          Inv3\n",
      "3  400000  0.01  20          Inv4\n",
      "   Target Investment ID\n",
      "0  200000          Inv1\n",
      "1  300000          Inv2\n",
      "2  800000          Inv3\n",
      "3  500000          Inv4\n"
     ]
    }
   ],
   "source": [
    "# This cell constructs the data for you, you may simply run this and work on these data in the next cell.\n",
    "inv_info = pd.DataFrame({\n",
    "        'pv' : [100000, 200000, 150000, 400000], \n",
    "        'r' : [0.10, 0.07, 0.15, 0.01], \n",
    "        't' : [10, 5, 12, 20],\n",
    "        'Investment ID' : ['Inv1', 'Inv2', 'Inv3', 'Inv4']})\n",
    "\n",
    "inv_target = pd.DataFrame({\n",
    "        'Target' : [200000, 300000, 800000, 500000],\n",
    "        'Investment ID' : ['Inv1', 'Inv2', 'Inv3', 'Inv4']})\n",
    "\n",
    "print(inv_info) \n",
    "print(inv_target)"
   ]
  },
  {
   "cell_type": "code",
   "execution_count": 4,
   "metadata": {},
   "outputs": [],
   "source": [
    "# helper func for below method\n",
    "def future_val_helper(pv, r, t):\n",
    "    val = round(pv * (1 + r)**t, 2)\n",
    "    return val\n",
    "\n",
    "# func as defined by problem\n",
    "def future_val_from_dfs(df1, df2):\n",
    "    # merging dfs\n",
    "    full_df = df1.merge(df2)\n",
    "    \n",
    "    # calculating future value using helper method\n",
    "    full_df['fv'] = future_val_helper(full_df['pv'], full_df['r'], full_df['t'])\n",
    "    \n",
    "    # adding col based on if the target will be hit in the term\n",
    "    full_df['Will hit target?'] = full_df['fv'] > full_df['Target']\n",
    "    \n",
    "    return full_df"
   ]
  },
  {
   "cell_type": "code",
   "execution_count": 5,
   "metadata": {},
   "outputs": [
    {
     "data": {
      "text/html": [
       "<div>\n",
       "<style scoped>\n",
       "    .dataframe tbody tr th:only-of-type {\n",
       "        vertical-align: middle;\n",
       "    }\n",
       "\n",
       "    .dataframe tbody tr th {\n",
       "        vertical-align: top;\n",
       "    }\n",
       "\n",
       "    .dataframe thead th {\n",
       "        text-align: right;\n",
       "    }\n",
       "</style>\n",
       "<table border=\"1\" class=\"dataframe\">\n",
       "  <thead>\n",
       "    <tr style=\"text-align: right;\">\n",
       "      <th></th>\n",
       "      <th>pv</th>\n",
       "      <th>r</th>\n",
       "      <th>t</th>\n",
       "      <th>Investment ID</th>\n",
       "      <th>Target</th>\n",
       "      <th>fv</th>\n",
       "      <th>Will hit target?</th>\n",
       "    </tr>\n",
       "  </thead>\n",
       "  <tbody>\n",
       "    <tr>\n",
       "      <th>0</th>\n",
       "      <td>100000</td>\n",
       "      <td>0.10</td>\n",
       "      <td>10</td>\n",
       "      <td>Inv1</td>\n",
       "      <td>200000</td>\n",
       "      <td>259374.25</td>\n",
       "      <td>True</td>\n",
       "    </tr>\n",
       "    <tr>\n",
       "      <th>1</th>\n",
       "      <td>200000</td>\n",
       "      <td>0.07</td>\n",
       "      <td>5</td>\n",
       "      <td>Inv2</td>\n",
       "      <td>300000</td>\n",
       "      <td>280510.35</td>\n",
       "      <td>False</td>\n",
       "    </tr>\n",
       "    <tr>\n",
       "      <th>2</th>\n",
       "      <td>150000</td>\n",
       "      <td>0.15</td>\n",
       "      <td>12</td>\n",
       "      <td>Inv3</td>\n",
       "      <td>800000</td>\n",
       "      <td>802537.52</td>\n",
       "      <td>True</td>\n",
       "    </tr>\n",
       "    <tr>\n",
       "      <th>3</th>\n",
       "      <td>400000</td>\n",
       "      <td>0.01</td>\n",
       "      <td>20</td>\n",
       "      <td>Inv4</td>\n",
       "      <td>500000</td>\n",
       "      <td>488076.02</td>\n",
       "      <td>False</td>\n",
       "    </tr>\n",
       "  </tbody>\n",
       "</table>\n",
       "</div>"
      ],
      "text/plain": [
       "       pv     r   t Investment ID  Target         fv  Will hit target?\n",
       "0  100000  0.10  10          Inv1  200000  259374.25              True\n",
       "1  200000  0.07   5          Inv2  300000  280510.35             False\n",
       "2  150000  0.15  12          Inv3  800000  802537.52              True\n",
       "3  400000  0.01  20          Inv4  500000  488076.02             False"
      ]
     },
     "execution_count": 5,
     "metadata": {},
     "output_type": "execute_result"
    }
   ],
   "source": [
    "# applying func\n",
    "future_val_from_dfs(inv_info, inv_target)"
   ]
  },
  {
   "cell_type": "markdown",
   "metadata": {},
   "source": [
    "---"
   ]
  },
  {
   "cell_type": "markdown",
   "metadata": {},
   "source": [
    "## Question 3\n",
    "Write a program that calculates the internet bill, from a given list of customers. You will be using the __HW3_Data.xlsx__ datafile that is provided with this homework to calculate the bills.\n",
    "* The program will first import the usage and fee information. (GB used and GB rate) (Sheet1)\n",
    "* Second, the program will merge the \"Years as customer\" information of each household with the usage data. (Sheet2)\n",
    "\n",
    "You should then write a function that uses the following parameters to calculate bill: (gb_used, gb_rate, years_as_customer). You may want to check the exercise in lecture 2 as guidance, but you'll need to rewrite this function using 'np.where' instead of 'if' conditions:\n",
    "* If the internet usage is greater than 80 GB in a given month, the customer will pay 200% extra for the extra hours. (i.e., x3)\n",
    "* Furthermore, if the household has been a customer for more than 10 years, the total bill will be further reduced by 10% (i.e., x0.9).\n",
    "\n",
    "Finally, the program will construct a new \"Bill\" column, by inputting the necessary information as arguments into internet_bill function to produce the output as a new column in the dataframe.\n",
    "\n",
    "<div class=\"alert alert-block alert-info\">\n",
    "<b>Hint:</b> You'll find that 'if' condition will produce ambiguity error when constructing columns in pandas (this is because the core 'if' function does not recognize the series for expression checks, without explicitly telling it which specific element of the series to look at). For this reason, you can use NumPy's 'where' function to calculate the bill. For example: \n",
    "\n",
    "* _Instead of:_ if gb_used > 80: bill = formula1 else: bill = formula2 || _You'll need to write:_ np.where(gb_used > 80, formula1, formula2). You'll need to repeat this twice since original function had two if statements, one for extra usage (i.e., charge extra) and one for customer years (i.e., discount). \n",
    "</div>"
   ]
  },
  {
   "cell_type": "code",
   "execution_count": 6,
   "metadata": {
    "scrolled": true
   },
   "outputs": [],
   "source": [
    "# loading data\n",
    "excel_data = pd.read_excel('HW3_Data.xlsx', sheet_name=[0,1])"
   ]
  },
  {
   "cell_type": "code",
   "execution_count": 8,
   "metadata": {},
   "outputs": [],
   "source": [
    "# helper method -- does the actual calculation\n",
    "def internet_bill(gb_used, gb_rate, years_as_customer):\n",
    "    bill = gb_used * gb_rate  # standard case\n",
    "    bill = np.where(gb_used > 80, bill * 3, bill) # where over 80 gbs is used\n",
    "    bill = np.where(years_as_customer > 10, bill  * .9, bill) # where customer age is over 10\n",
    "    return bill\n",
    "\n",
    "def internet_bill_calculator(path='HW3_Data.xlsx', sheet_names=[0,1]):\n",
    "    # loading data\n",
    "    excel_data = pd.read_excel(path, sheet_name=sheet_names)\n",
    "    \n",
    "    # unwrapping and merging data\n",
    "    df1 = excel_data[0]\n",
    "    df2 = excel_data[1]\n",
    "    \n",
    "    # merging data\n",
    "    full_df = df1.merge(df2)\n",
    "    \n",
    "    full_df['Bill'] = internet_bill(full_df['GB used'], full_df['GB rate'], full_df['Years as customer'])\n",
    "    \n",
    "    return full_df"
   ]
  },
  {
   "cell_type": "code",
   "execution_count": 9,
   "metadata": {},
   "outputs": [
    {
     "data": {
      "text/html": [
       "<div>\n",
       "<style scoped>\n",
       "    .dataframe tbody tr th:only-of-type {\n",
       "        vertical-align: middle;\n",
       "    }\n",
       "\n",
       "    .dataframe tbody tr th {\n",
       "        vertical-align: top;\n",
       "    }\n",
       "\n",
       "    .dataframe thead th {\n",
       "        text-align: right;\n",
       "    }\n",
       "</style>\n",
       "<table border=\"1\" class=\"dataframe\">\n",
       "  <thead>\n",
       "    <tr style=\"text-align: right;\">\n",
       "      <th></th>\n",
       "      <th>Customer ID</th>\n",
       "      <th>GB used</th>\n",
       "      <th>GB rate</th>\n",
       "      <th>Years as customer</th>\n",
       "      <th>Bill</th>\n",
       "    </tr>\n",
       "  </thead>\n",
       "  <tbody>\n",
       "    <tr>\n",
       "      <th>0</th>\n",
       "      <td>1</td>\n",
       "      <td>150</td>\n",
       "      <td>1</td>\n",
       "      <td>3</td>\n",
       "      <td>450.0</td>\n",
       "    </tr>\n",
       "    <tr>\n",
       "      <th>1</th>\n",
       "      <td>2</td>\n",
       "      <td>85</td>\n",
       "      <td>1</td>\n",
       "      <td>2</td>\n",
       "      <td>255.0</td>\n",
       "    </tr>\n",
       "    <tr>\n",
       "      <th>2</th>\n",
       "      <td>3</td>\n",
       "      <td>25</td>\n",
       "      <td>1</td>\n",
       "      <td>5</td>\n",
       "      <td>25.0</td>\n",
       "    </tr>\n",
       "    <tr>\n",
       "      <th>3</th>\n",
       "      <td>4</td>\n",
       "      <td>76</td>\n",
       "      <td>1</td>\n",
       "      <td>6</td>\n",
       "      <td>76.0</td>\n",
       "    </tr>\n",
       "    <tr>\n",
       "      <th>4</th>\n",
       "      <td>5</td>\n",
       "      <td>80</td>\n",
       "      <td>1</td>\n",
       "      <td>15</td>\n",
       "      <td>72.0</td>\n",
       "    </tr>\n",
       "    <tr>\n",
       "      <th>5</th>\n",
       "      <td>6</td>\n",
       "      <td>40</td>\n",
       "      <td>1</td>\n",
       "      <td>20</td>\n",
       "      <td>36.0</td>\n",
       "    </tr>\n",
       "    <tr>\n",
       "      <th>6</th>\n",
       "      <td>7</td>\n",
       "      <td>100</td>\n",
       "      <td>1</td>\n",
       "      <td>12</td>\n",
       "      <td>270.0</td>\n",
       "    </tr>\n",
       "    <tr>\n",
       "      <th>7</th>\n",
       "      <td>8</td>\n",
       "      <td>20</td>\n",
       "      <td>1</td>\n",
       "      <td>5</td>\n",
       "      <td>20.0</td>\n",
       "    </tr>\n",
       "    <tr>\n",
       "      <th>8</th>\n",
       "      <td>9</td>\n",
       "      <td>10</td>\n",
       "      <td>1</td>\n",
       "      <td>8</td>\n",
       "      <td>10.0</td>\n",
       "    </tr>\n",
       "    <tr>\n",
       "      <th>9</th>\n",
       "      <td>10</td>\n",
       "      <td>90</td>\n",
       "      <td>1</td>\n",
       "      <td>14</td>\n",
       "      <td>243.0</td>\n",
       "    </tr>\n",
       "  </tbody>\n",
       "</table>\n",
       "</div>"
      ],
      "text/plain": [
       "   Customer ID  GB used  GB rate  Years as customer   Bill\n",
       "0            1      150        1                  3  450.0\n",
       "1            2       85        1                  2  255.0\n",
       "2            3       25        1                  5   25.0\n",
       "3            4       76        1                  6   76.0\n",
       "4            5       80        1                 15   72.0\n",
       "5            6       40        1                 20   36.0\n",
       "6            7      100        1                 12  270.0\n",
       "7            8       20        1                  5   20.0\n",
       "8            9       10        1                  8   10.0\n",
       "9           10       90        1                 14  243.0"
      ]
     },
     "execution_count": 9,
     "metadata": {},
     "output_type": "execute_result"
    }
   ],
   "source": [
    "# applying method\n",
    "internet_bill_calculator()"
   ]
  },
  {
   "cell_type": "markdown",
   "metadata": {},
   "source": [
    "---"
   ]
  },
  {
   "cell_type": "markdown",
   "metadata": {},
   "source": [
    "## Question 4"
   ]
  },
  {
   "cell_type": "markdown",
   "metadata": {},
   "source": [
    "Download stock prices information of the following ticker: 'NFLX', between the dates from 2021-1-1 to 2021-2-1.\n",
    "\n",
    "In a figure, plot together the 'Adj Close' prices of this stock as well as the 'Volume' of trades for this stock according to following rules:\n",
    "* Prepare your figure so that these two variables each have a subplot of their own for ease of readability. Note that we want two subplots together in one figure, not two separate figures.\n",
    "* Make sure that your figure size is reasonably large (e.g., a figure size of (10, 6) or more) so that the graph is easy to read. \n",
    "* Price subplot will be a line graph, and the Volume subplot will be a bar graph."
   ]
  },
  {
   "cell_type": "code",
   "execution_count": 10,
   "metadata": {},
   "outputs": [],
   "source": [
    "start = dt.datetime(2021, 1, 1)\n",
    "end = dt.datetime(2021, 2, 1)\n",
    "\n",
    "df_nflx = pd.DataFrame(web.DataReader('NFLX', 'yahoo', start, end))"
   ]
  },
  {
   "cell_type": "code",
   "execution_count": 11,
   "metadata": {},
   "outputs": [
    {
     "data": {
      "image/png": "[encoded data removed]",
      "text/plain": [
       "<Figure size 720x432 with 2 Axes>"
      ]
     },
     "metadata": {
      "needs_background": "light"
     },
     "output_type": "display_data"
    }
   ],
   "source": [
    "fig, axes = plt.subplots(nrows=1, ncols=2, figsize=(10,6))\n",
    "df_nflx['Adj Close'].plot(ax=axes[0])\n",
    "df_nflx['Volume'].plot(ax=axes[1], kind='bar')\n",
    "\n",
    "axes[0].set_title('Adj Close')\n",
    "axes[1].set_title('Volume')\n",
    "\n",
    "plt.show()"
   ]
  },
  {
   "cell_type": "markdown",
   "metadata": {},
   "source": [
    "---"
   ]
  },
  {
   "cell_type": "markdown",
   "metadata": {},
   "source": [
    "## Question 5"
   ]
  },
  {
   "cell_type": "markdown",
   "metadata": {},
   "source": [
    "Download stock price ('Adj Close') information of the following tickers: 'CVX', 'FDX' between the dates from 2020-1-1 to 2021-1-1.\n",
    "\n",
    "* Firstly, merge these two stock prices into one dataframe.\n",
    "* Secondly, calculate the daily percentage changes in stock prices.\n",
    "* Finally, scatterplot the daily percentages changes in stock prices of these two tickers. 'CVX' should be on the x-axis and 'FDX' should be on the y-axis."
   ]
  },
  {
   "cell_type": "code",
   "execution_count": 12,
   "metadata": {},
   "outputs": [],
   "source": [
    "start = dt.datetime(2020, 1, 1)\n",
    "end = dt.datetime(2021, 1, 1)\n",
    "\n",
    "df_CVX = pd.DataFrame(web.DataReader('CVX', 'yahoo', start, end)['Adj Close'])\n",
    "df_FDX = pd.DataFrame(web.DataReader('FDX', 'yahoo', start, end)['Adj Close'])\n",
    "\n",
    "# merging dfs\n",
    "full_df = df_CVX.merge(df_FDX, left_index=True, right_index=True)\n",
    "\n",
    "# calculating percent changes\n",
    "full_df['Pct change x'] = full_df['Adj Close_x'].pct_change()\n",
    "full_df['Pct change y'] = full_df['Adj Close_y'].pct_change()"
   ]
  },
  {
   "cell_type": "code",
   "execution_count": 13,
   "metadata": {},
   "outputs": [
    {
     "data": {
      "image/png": "[encoded data removed]",
      "text/plain": [
       "<Figure size 432x288 with 1 Axes>"
      ]
     },
     "metadata": {
      "needs_background": "light"
     },
     "output_type": "display_data"
    }
   ],
   "source": [
    "plt.scatter(full_df['Pct change x'], full_df['Pct change y'])\n",
    "plt.xlabel('CVX')\n",
    "plt.ylabel('FDX')\n",
    "plt.title('Percent change on daily adj close')\n",
    "plt.show()"
   ]
  }
 ],
 "metadata": {
  "kernelspec": {
   "display_name": "Python 3",
   "language": "python",
   "name": "python3"
  },
  "language_info": {
   "codemirror_mode": {
    "name": "ipython",
    "version": 3
   },
   "file_extension": ".py",
   "mimetype": "text/x-python",
   "name": "python",
   "nbconvert_exporter": "python",
   "pygments_lexer": "ipython3",
   "version": "3.7.4"
  }
 },
 "nbformat": 4,
 "nbformat_minor": 4
}
