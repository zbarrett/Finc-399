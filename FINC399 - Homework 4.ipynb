{
 "cells": [
  {
   "cell_type": "markdown",
   "metadata": {},
   "source": [
    "__Group Member Names:__ Ashton Hansen, Zach Barrett\n",
    "\n",
    "\n",
    "---"
   ]
  },
  {
   "cell_type": "markdown",
   "metadata": {},
   "source": [
    "# Homework 4\n",
    "__Guideline:__ \n",
    "* Please write the names of all group members to the __\"Group Member Names:\"__ line above. \n",
    "* Download the data file __tr_eikon_eod_data.csv__ from Sakai (book data) to complete this assignment.\n",
    "* For the questions that require verbal answers, please answer them in their respective answer cells. \n",
    "* For the questions that require code, if your code doesn't work, please include a comment describing your algorithm (if code works well, no explanation is needed). \n",
    "* Questions 1 and 3 are each worth 3 points. Questions 2 and 4 are each worth 2 points.\n",
    "* This homework is due on __Apr. 7, 2021, 5:30 pm.__ You need to upload your completed homework assignment to Sakai as a Jupyter Notebook file (.ipynb) until that time.\n",
    "---"
   ]
  },
  {
   "cell_type": "code",
   "execution_count": 4,
   "metadata": {},
   "outputs": [],
   "source": [
    "import numpy as np    \n",
    "import pandas as pd\n",
    "import datetime as dt                            # Date formats\n",
    "import pandas_datareader.data as web             # Downloading data from web\n",
    "import matplotlib as mpl                         # Plots\n",
    "import matplotlib.pyplot as plt\n",
    "from statsmodels import regression               # Regressions\n",
    "import statsmodels.api as sm\n",
    "import math                                      # Mathematical functions\n",
    "import scipy.optimize as sco                     # Optimizations\n",
    "import scipy.interpolate as sci                  # Interpolations"
   ]
  },
  {
   "cell_type": "code",
   "execution_count": 5,
   "metadata": {},
   "outputs": [],
   "source": [
    "# Import the data (replace the path with your own):\n",
    "raw = pd.read_csv(\"C:/Users/ashha/Documents/GitHub/Finc-399/tr_eikon_eod_data.csv\", index_col=0, parse_dates=True)"
   ]
  },
  {
   "cell_type": "code",
   "execution_count": 6,
   "metadata": {},
   "outputs": [
    {
     "data": {
      "text/html": [
       "<div>\n",
       "<style scoped>\n",
       "    .dataframe tbody tr th:only-of-type {\n",
       "        vertical-align: middle;\n",
       "    }\n",
       "\n",
       "    .dataframe tbody tr th {\n",
       "        vertical-align: top;\n",
       "    }\n",
       "\n",
       "    .dataframe thead th {\n",
       "        text-align: right;\n",
       "    }\n",
       "</style>\n",
       "<table border=\"1\" class=\"dataframe\">\n",
       "  <thead>\n",
       "    <tr style=\"text-align: right;\">\n",
       "      <th></th>\n",
       "      <th>AAPL.O</th>\n",
       "      <th>MSFT.O</th>\n",
       "      <th>INTC.O</th>\n",
       "      <th>AMZN.O</th>\n",
       "      <th>GS.N</th>\n",
       "      <th>SPY</th>\n",
       "      <th>.SPX</th>\n",
       "      <th>.VIX</th>\n",
       "      <th>EUR=</th>\n",
       "      <th>XAU=</th>\n",
       "      <th>GDX</th>\n",
       "      <th>GLD</th>\n",
       "    </tr>\n",
       "    <tr>\n",
       "      <th>Date</th>\n",
       "      <th></th>\n",
       "      <th></th>\n",
       "      <th></th>\n",
       "      <th></th>\n",
       "      <th></th>\n",
       "      <th></th>\n",
       "      <th></th>\n",
       "      <th></th>\n",
       "      <th></th>\n",
       "      <th></th>\n",
       "      <th></th>\n",
       "      <th></th>\n",
       "    </tr>\n",
       "  </thead>\n",
       "  <tbody>\n",
       "    <tr>\n",
       "      <th>2010-01-01</th>\n",
       "      <td>NaN</td>\n",
       "      <td>NaN</td>\n",
       "      <td>NaN</td>\n",
       "      <td>NaN</td>\n",
       "      <td>NaN</td>\n",
       "      <td>NaN</td>\n",
       "      <td>NaN</td>\n",
       "      <td>NaN</td>\n",
       "      <td>1.4323</td>\n",
       "      <td>1096.35</td>\n",
       "      <td>NaN</td>\n",
       "      <td>NaN</td>\n",
       "    </tr>\n",
       "    <tr>\n",
       "      <th>2010-01-04</th>\n",
       "      <td>30.572827</td>\n",
       "      <td>30.950</td>\n",
       "      <td>20.88</td>\n",
       "      <td>133.90</td>\n",
       "      <td>173.08</td>\n",
       "      <td>113.33</td>\n",
       "      <td>1132.99</td>\n",
       "      <td>20.04</td>\n",
       "      <td>1.4411</td>\n",
       "      <td>1120.00</td>\n",
       "      <td>47.71</td>\n",
       "      <td>109.80</td>\n",
       "    </tr>\n",
       "    <tr>\n",
       "      <th>2010-01-05</th>\n",
       "      <td>30.625684</td>\n",
       "      <td>30.960</td>\n",
       "      <td>20.87</td>\n",
       "      <td>134.69</td>\n",
       "      <td>176.14</td>\n",
       "      <td>113.63</td>\n",
       "      <td>1136.52</td>\n",
       "      <td>19.35</td>\n",
       "      <td>1.4368</td>\n",
       "      <td>1118.65</td>\n",
       "      <td>48.17</td>\n",
       "      <td>109.70</td>\n",
       "    </tr>\n",
       "    <tr>\n",
       "      <th>2010-01-06</th>\n",
       "      <td>30.138541</td>\n",
       "      <td>30.770</td>\n",
       "      <td>20.80</td>\n",
       "      <td>132.25</td>\n",
       "      <td>174.26</td>\n",
       "      <td>113.71</td>\n",
       "      <td>1137.14</td>\n",
       "      <td>19.16</td>\n",
       "      <td>1.4412</td>\n",
       "      <td>1138.50</td>\n",
       "      <td>49.34</td>\n",
       "      <td>111.51</td>\n",
       "    </tr>\n",
       "    <tr>\n",
       "      <th>2010-01-07</th>\n",
       "      <td>30.082827</td>\n",
       "      <td>30.452</td>\n",
       "      <td>20.60</td>\n",
       "      <td>130.00</td>\n",
       "      <td>177.67</td>\n",
       "      <td>114.19</td>\n",
       "      <td>1141.69</td>\n",
       "      <td>19.06</td>\n",
       "      <td>1.4318</td>\n",
       "      <td>1131.90</td>\n",
       "      <td>49.10</td>\n",
       "      <td>110.82</td>\n",
       "    </tr>\n",
       "  </tbody>\n",
       "</table>\n",
       "</div>"
      ],
      "text/plain": [
       "               AAPL.O  MSFT.O  INTC.O  AMZN.O    GS.N     SPY     .SPX   .VIX  \\\n",
       "Date                                                                            \n",
       "2010-01-01        NaN     NaN     NaN     NaN     NaN     NaN      NaN    NaN   \n",
       "2010-01-04  30.572827  30.950   20.88  133.90  173.08  113.33  1132.99  20.04   \n",
       "2010-01-05  30.625684  30.960   20.87  134.69  176.14  113.63  1136.52  19.35   \n",
       "2010-01-06  30.138541  30.770   20.80  132.25  174.26  113.71  1137.14  19.16   \n",
       "2010-01-07  30.082827  30.452   20.60  130.00  177.67  114.19  1141.69  19.06   \n",
       "\n",
       "              EUR=     XAU=    GDX     GLD  \n",
       "Date                                        \n",
       "2010-01-01  1.4323  1096.35    NaN     NaN  \n",
       "2010-01-04  1.4411  1120.00  47.71  109.80  \n",
       "2010-01-05  1.4368  1118.65  48.17  109.70  \n",
       "2010-01-06  1.4412  1138.50  49.34  111.51  \n",
       "2010-01-07  1.4318  1131.90  49.10  110.82  "
      ]
     },
     "execution_count": 6,
     "metadata": {},
     "output_type": "execute_result"
    }
   ],
   "source": [
    "raw.head()"
   ]
  },
  {
   "cell_type": "markdown",
   "metadata": {},
   "source": [
    "---"
   ]
  },
  {
   "cell_type": "markdown",
   "metadata": {},
   "source": [
    "## Question 1"
   ]
  },
  {
   "cell_type": "markdown",
   "metadata": {},
   "source": [
    "Construct the investment opportunity set of Microsoft and Intel stocks.\n",
    "\n",
    "Calculate portfolio return and portfolio standard deviation for each level of weight (w) and (1-w), with increments of 0.01, where \"w\" will be the weight of MSFT and (1-w) will be the weight of INTC stock.\n",
    "\n",
    "__Graph__ the portfolio return and portfolio standard deviation for each weight with increments of 0.01. (e.g., weight (w) can take values between 0 and 1, inclusive, with increments of 0.01: 0.00, 0.01, 0.02,... 0.99, 1.00 etc.) \n",
    "\n",
    "You may get the security prices data from __tr_eikon_eod_data.csv__ file on Sakai. Retrieve the following columns: MSFT.O, INTC.O."
   ]
  },
  {
   "cell_type": "markdown",
   "metadata": {},
   "source": [
    "---"
   ]
  },
  {
   "cell_type": "code",
   "execution_count": 256,
   "metadata": {},
   "outputs": [
    {
     "name": "stdout",
     "output_type": "stream",
     "text": [
      "     MSFT Weights  INTC Weights   Returns  Volatility\n",
      "0            0.00          1.00  0.096655    0.014960\n",
      "1            0.01          0.99  0.096937    0.014891\n",
      "2            0.02          0.98  0.097218    0.014823\n",
      "3            0.03          0.97  0.097500    0.014756\n",
      "4            0.04          0.96  0.097782    0.014690\n",
      "..            ...           ...       ...         ...\n",
      "96           0.96          0.04  0.123712    0.014031\n",
      "97           0.97          0.03  0.123994    0.014086\n",
      "98           0.98          0.02  0.124276    0.014141\n",
      "99           0.99          0.01  0.124558    0.014198\n",
      "100          1.00          0.00  0.124840    0.014256\n",
      "\n",
      "[101 rows x 4 columns]\n"
     ]
    },
    {
     "data": {
      "image/png": "[encoded data removed]",
      "text/plain": [
       "<Figure size 1296x720 with 2 Axes>"
      ]
     },
     "metadata": {
      "needs_background": "light"
     },
     "output_type": "display_data"
    }
   ],
   "source": [
    "symbols = ['MSFT.O', 'INTC.O']\n",
    "port = raw[symbols]\n",
    "\n",
    "wts = pd.DataFrame()\n",
    "wts['MSFT.weights'] = np.arange(0, 1.01, 0.01)\n",
    "wts['INTC.weights'] = (1 - wts['MSFT.weights'])\n",
    "\n",
    "returns = np.log(port / port.shift(1))\n",
    "\n",
    "mean_rets = pd.DataFrame()\n",
    "var_rets = pd.DataFrame()\n",
    "cov_rets = pd.DataFrame()\n",
    "\n",
    "mean_rets['MSFT'] = np.repeat(returns['MSFT.O'].mean(), len(wts)) # redundant, but data frame will make more sense\n",
    "mean_rets['INTC'] = np.repeat(returns['INTC.O'].mean(), len(wts)) # also redundant, but useful for reading the data frame output\n",
    "var_rets['MSFT'] = np.repeat(returns['MSFT.O'].var(), len(wts)) # used in calculating portfolio volatility\n",
    "var_rets['INTC'] = np.repeat(returns['INTC.O'].var(), len(wts)) # used in calculating portfolio volatility\n",
    "cov_mat = returns.cov()\n",
    "cov_rets['Covariance'] = np.repeat(cov_mat['INTC.O'][0], len(wts))\n",
    "\n",
    "port = pd.DataFrame()\n",
    "port['MSFT Weights'] = wts['MSFT.weights']\n",
    "port['INTC Weights'] = wts['INTC.weights']\n",
    "port['Returns'] = (mean_rets['MSFT'] * wts['MSFT.weights'] + mean_rets['INTC'] * wts['INTC.weights']) * 252\n",
    "port['Volatility'] = np.sqrt((wts['MSFT.weights']**2 * var_rets['MSFT'] +\n",
    "                             wts['INTC.weights']**2 * var_rets['INTC'] +\n",
    "                            2 * wts['MSFT.weights'] * wts['INTC.weights'] * cov_rets['Covariance']))\n",
    "print(port)\n",
    "\n",
    "\n",
    "plt.figure(figsize = (18, 10))\n",
    "plt.scatter(port['Volatility'], port['Returns'], c = (port['Returns']-0.01)/port['Volatility'], cmap = 'coolwarm', marker = 'o')\n",
    "plt.xlabel('Expected volatility')\n",
    "plt.ylabel('Expected return')\n",
    "plt.colorbar(label = 'Sharpe ratio (risk-free rate assumed: 1%)'); # assuming the same risk-free rate used throughout assignment"
   ]
  },
  {
   "cell_type": "markdown",
   "metadata": {},
   "source": [
    "## Question 2\n",
    "Suppose we have an investor that is trying to decide on investing \\$1000 between two securities (a and b). Both securities cost 10 dollars per unit. A year later security a and b will pay 30 dollars and 5 dollars, respectively in state _u_. And in state _d_, security a will pay 5 dollars, and security b will pay 12 dollars. \n",
    "\n",
    "The state _u_  is likely to occur with 30% probability while the state _d_ is likely to occur with 70% probability. And the investor's utility function is _u(w) = w ** 0.5_ (square root of wealth).\n",
    "\n",
    "How much __money__ out of the total investment of \\$1000 the investor should put into each security to maximize the utility?"
   ]
  },
  {
   "cell_type": "code",
   "execution_count": 138,
   "metadata": {},
   "outputs": [
    {
     "data": {
      "text/plain": [
       "     fun: -32.974448543012656\n",
       "     jac: array([-0.16488504, -0.16485596])\n",
       " message: 'Optimization terminated successfully'\n",
       "    nfev: 36\n",
       "     nit: 12\n",
       "    njev: 12\n",
       "  status: 0\n",
       " success: True\n",
       "       x: array([55.79940098, 44.20059902])"
      ]
     },
     "execution_count": 138,
     "metadata": {},
     "output_type": "execute_result"
    }
   ],
   "source": [
    "def utility(p):\n",
    "    a = p[0]\n",
    "    b = p[1]\n",
    "    return -(0.3 * math.sqrt(a * 30 + b * 5) + 0.7 * math.sqrt(a * 5 + b * 12))\n",
    "cons = ({'type': 'ineq', 'fun': lambda p: 1000 - p[0] * 10 - p[1] * 10})\n",
    "bnds = ((0, 100000), (0, 100000))\n",
    "\n",
    "result = sco.minimize(utility, [1, 9], method = 'SLSQP', bounds = bnds, constraints = cons)\n",
    "result"
   ]
  },
  {
   "cell_type": "markdown",
   "metadata": {},
   "source": [
    "$557.99 should be invested into Security A and $442.01 should be invested in Security B to maximize utility."
   ]
  },
  {
   "cell_type": "markdown",
   "metadata": {},
   "source": [
    "---"
   ]
  },
  {
   "cell_type": "markdown",
   "metadata": {},
   "source": [
    "## Question 3\n",
    "Import the __tr_eikon_eod_data.csv__ file from Sakai. Retrieve the following columns: MSFT.O, AMZN.O, .VIX, INTC.O, AAPL.O\n",
    "\n",
    "(Alternatively, if you can't get the import to work for some reason, use pandas-datareader to download and merge the stock prices (Adj Close) of MSFT, AMZN, ^VIX, INTC, and AAPL for the last 10 years.)\n",
    "\n",
    "Assume that risk-free rate is 1% = 0.01. "
   ]
  },
  {
   "cell_type": "markdown",
   "metadata": {},
   "source": [
    "a) Write/define functions that calculate the portfolio return and portfolio volatility, respectively. If you put __equal__ amount of your money into each security (equal weight), what would be your portfolio return? What would be the __Sharpe Ratio__ of this equal-weighted portfolio?"
   ]
  },
  {
   "cell_type": "code",
   "execution_count": 126,
   "metadata": {
    "scrolled": true
   },
   "outputs": [
    {
     "name": "stdout",
     "output_type": "stream",
     "text": [
      "(0.07936811721136747, 0.18528537862204128, 0.3743852738260025)\n"
     ]
    }
   ],
   "source": [
    "# Defining function\n",
    "def portfolio(prices, weights, sharpe = True, risk_free = 0.01):\n",
    "    rets = np.log(prices / prices.shift(1))\n",
    "    returns = np.sum(rets.mean() * weights) * 252\n",
    "    volatility = math.sqrt(np.dot(weights.T, np.dot(rets.cov() * 252, weights)))\n",
    "    if sharpe == True:\n",
    "        sharpe_ratio = (returns - risk_free)/volatility\n",
    "        return(returns, volatility, sharpe_ratio)\n",
    "    else:\n",
    "        return(returns, volatility)\n",
    "\n",
    "# Using function\n",
    "symbols = ['MSFT.O', 'AMZN.O', '.VIX', 'INTC.O', 'AAPL.O'] # columns of interest\n",
    "data = raw[symbols] # subset columns of interest\n",
    "wts = np.array([1/5, 1/5, 1/5, 1/5, 1/5]) # Equal weights\n",
    "\n",
    "port = portfolio(data, weights = wts) \n",
    "print(port)"
   ]
  },
  {
   "cell_type": "markdown",
   "metadata": {},
   "source": [
    "The portfolio return of an equally weighted portfolio would be 7.9368%, and the sharpe ratio of this portfolio would be 0.3744."
   ]
  },
  {
   "cell_type": "markdown",
   "metadata": {},
   "source": [
    "b) Write a program that calculates the weights for the optimal risky portfolio. What is the return of __optimal__ portfolio? What is the __Sharpe Ratio__ of this optimal portfolio?"
   ]
  },
  {
   "cell_type": "code",
   "execution_count": 168,
   "metadata": {},
   "outputs": [
    {
     "name": "stdout",
     "output_type": "stream",
     "text": [
      "Optimal Weights: [0.12056259 0.45229128 0.06513602 0.01740886 0.34460125]\n",
      "Return of Optimal Portfolio: 0.19014811131199524\n",
      "Optimal Portfolio Sharpe Ratio: 1.0467692748481325\n"
     ]
    }
   ],
   "source": [
    "symbols = ['MSFT.O', 'AMZN.O', '.VIX', 'INTC.O', 'AAPL.O'] # columns of interest\n",
    "data = raw[symbols] # subset columns of interest\n",
    "rets = np.log(data / data.shift(1))\n",
    "eweights = np.array(5 * [1 / 5])\n",
    "\n",
    "def port_ret(weights):\n",
    "    return np.sum(rets.mean() * weights) * 252\n",
    "\n",
    "def port_vol(weights):\n",
    "    return np.sqrt(np.dot(weights.T, np.dot(rets.cov() * 252, weights)))\n",
    "\n",
    "def min_func_sharpe(weights):\n",
    "    return -(port_ret(weights) - 0.01) / port_vol(weights) \n",
    "\n",
    "cons = ({'type': 'eq', 'fun': lambda x: np.sum(x) - 1})\n",
    "bnds = ((0,1), (0,1), (0,1), (0,1), (0,1)) \n",
    "\n",
    "# Sharpe ratio of equal weights portfolio:\n",
    "risk_free_rate = 0.01\n",
    "sharpe_ratio_eq = port[2]\n",
    "\n",
    "opts = sco.minimize(min_func_sharpe, eweights, method = 'SLSQP', bounds = bnds, constraints = cons)\n",
    "print(\"Optimal Weights:\", opts['x'])\n",
    "\n",
    "opt_return = port_ret(opts['x'])\n",
    "opt_volatility = port_vol(opts['x'])\n",
    "opt_sharpe = (opt_return - risk_free_rate)/opt_volatility\n",
    "\n",
    "print(\"Return of Optimal Portfolio:\", opt_return)\n",
    "print(\"Optimal Portfolio Sharpe Ratio:\", opt_sharpe)"
   ]
  },
  {
   "cell_type": "markdown",
   "metadata": {},
   "source": [
    "The optimal portfolio would be weighted as 12.06% MSFT, 45.23% AMZN, 6.51% ^VIX, 1.74% INTC, and 34.46% AAPL.\n",
    "The return of this portfolio would be 19.01%, and the portfolio's sharpe ratio would be 1.0468."
   ]
  },
  {
   "cell_type": "markdown",
   "metadata": {},
   "source": [
    "---"
   ]
  },
  {
   "cell_type": "markdown",
   "metadata": {},
   "source": [
    "## Question 4"
   ]
  },
  {
   "cell_type": "markdown",
   "metadata": {},
   "source": [
    "Import the __tr_eikon_eod_data.csv__ file from Sakai. You'll need the following columns: MSFT.O, AMZN.O, GS.N, .VIX, .SPX.\n",
    "\n",
    "(Alternatively, if you can't get the import to work for some reason, use pandas-datareader to download and merge the stock prices (Adj Close) of MSFT, AMZN, GS, ^VIX, and ^GSPC for the last 10 years.)\n",
    "\n",
    "Assume that .SPX represents the market, and that the returns calculated on .SPX are market returns. Further, assume that annual risk-free rate is 1% = 0.01. "
   ]
  },
  {
   "cell_type": "markdown",
   "metadata": {},
   "source": [
    "Using the regression analysis, according to CAPM model, calculate the alpha and beta for each of these stocks and indexes. "
   ]
  },
  {
   "cell_type": "code",
   "execution_count": 157,
   "metadata": {},
   "outputs": [
    {
     "data": {
      "text/html": [
       "<table class=\"simpletable\">\n",
       "<caption>OLS Regression Results</caption>\n",
       "<tr>\n",
       "  <th>Dep. Variable:</th>          <td>.VIX</td>       <th>  R-squared:         </th> <td>   0.650</td>\n",
       "</tr>\n",
       "<tr>\n",
       "  <th>Model:</th>                   <td>OLS</td>       <th>  Adj. R-squared:    </th> <td>   0.650</td>\n",
       "</tr>\n",
       "<tr>\n",
       "  <th>Method:</th>             <td>Least Squares</td>  <th>  F-statistic:       </th> <td>   3832.</td>\n",
       "</tr>\n",
       "<tr>\n",
       "  <th>Date:</th>             <td>Tue, 06 Apr 2021</td> <th>  Prob (F-statistic):</th>  <td>  0.00</td> \n",
       "</tr>\n",
       "<tr>\n",
       "  <th>Time:</th>                 <td>17:25:59</td>     <th>  Log-Likelihood:    </th> <td>  3438.2</td>\n",
       "</tr>\n",
       "<tr>\n",
       "  <th>No. Observations:</th>      <td>  2061</td>      <th>  AIC:               </th> <td>  -6872.</td>\n",
       "</tr>\n",
       "<tr>\n",
       "  <th>Df Residuals:</th>          <td>  2059</td>      <th>  BIC:               </th> <td>  -6861.</td>\n",
       "</tr>\n",
       "<tr>\n",
       "  <th>Df Model:</th>              <td>     1</td>      <th>                     </th>     <td> </td>   \n",
       "</tr>\n",
       "<tr>\n",
       "  <th>Covariance Type:</th>      <td>nonrobust</td>    <th>                     </th>     <td> </td>   \n",
       "</tr>\n",
       "</table>\n",
       "<table class=\"simpletable\">\n",
       "<tr>\n",
       "    <td></td>       <th>coef</th>     <th>std err</th>      <th>t</th>      <th>P>|t|</th>  <th>[0.025</th>    <th>0.975]</th>  \n",
       "</tr>\n",
       "<tr>\n",
       "  <th>const</th> <td>    0.0011</td> <td>    0.001</td> <td>    1.133</td> <td> 0.257</td> <td>   -0.001</td> <td>    0.003</td>\n",
       "</tr>\n",
       "<tr>\n",
       "  <th>.SPX</th>  <td>   -6.6405</td> <td>    0.107</td> <td>  -61.904</td> <td> 0.000</td> <td>   -6.851</td> <td>   -6.430</td>\n",
       "</tr>\n",
       "</table>\n",
       "<table class=\"simpletable\">\n",
       "<tr>\n",
       "  <th>Omnibus:</th>       <td>529.093</td> <th>  Durbin-Watson:     </th> <td>   2.109</td>\n",
       "</tr>\n",
       "<tr>\n",
       "  <th>Prob(Omnibus):</th> <td> 0.000</td>  <th>  Jarque-Bera (JB):  </th> <td>7544.657</td>\n",
       "</tr>\n",
       "<tr>\n",
       "  <th>Skew:</th>          <td> 0.805</td>  <th>  Prob(JB):          </th> <td>    0.00</td>\n",
       "</tr>\n",
       "<tr>\n",
       "  <th>Kurtosis:</th>      <td>12.234</td>  <th>  Cond. No.          </th> <td>    107.</td>\n",
       "</tr>\n",
       "</table><br/><br/>Notes:<br/>[1] Standard Errors assume that the covariance matrix of the errors is correctly specified."
      ],
      "text/plain": [
       "<class 'statsmodels.iolib.summary.Summary'>\n",
       "\"\"\"\n",
       "                            OLS Regression Results                            \n",
       "==============================================================================\n",
       "Dep. Variable:                   .VIX   R-squared:                       0.650\n",
       "Model:                            OLS   Adj. R-squared:                  0.650\n",
       "Method:                 Least Squares   F-statistic:                     3832.\n",
       "Date:                Tue, 06 Apr 2021   Prob (F-statistic):               0.00\n",
       "Time:                        17:25:59   Log-Likelihood:                 3438.2\n",
       "No. Observations:                2061   AIC:                            -6872.\n",
       "Df Residuals:                    2059   BIC:                            -6861.\n",
       "Df Model:                           1                                         \n",
       "Covariance Type:            nonrobust                                         \n",
       "==============================================================================\n",
       "                 coef    std err          t      P>|t|      [0.025      0.975]\n",
       "------------------------------------------------------------------------------\n",
       "const          0.0011      0.001      1.133      0.257      -0.001       0.003\n",
       ".SPX          -6.6405      0.107    -61.904      0.000      -6.851      -6.430\n",
       "==============================================================================\n",
       "Omnibus:                      529.093   Durbin-Watson:                   2.109\n",
       "Prob(Omnibus):                  0.000   Jarque-Bera (JB):             7544.657\n",
       "Skew:                           0.805   Prob(JB):                         0.00\n",
       "Kurtosis:                      12.234   Cond. No.                         107.\n",
       "==============================================================================\n",
       "\n",
       "Notes:\n",
       "[1] Standard Errors assume that the covariance matrix of the errors is correctly specified.\n",
       "\"\"\""
      ]
     },
     "execution_count": 157,
     "metadata": {},
     "output_type": "execute_result"
    }
   ],
   "source": [
    "symbols = ['MSFT.O', 'AMZN.O', 'GS.N', '.VIX', '.SPX'] # columns of interest\n",
    "data = raw[symbols] # subset columns of interest\n",
    "returns = (np.log(raw / raw.shift(1)).dropna())\n",
    "returns = returns - (0.01/252) # deducting risk-free rate\n",
    "\n",
    "xvars = sm.add_constant(returns['.SPX'])"
   ]
  },
  {
   "cell_type": "code",
   "execution_count": 158,
   "metadata": {},
   "outputs": [
    {
     "data": {
      "text/html": [
       "<table class=\"simpletable\">\n",
       "<caption>OLS Regression Results</caption>\n",
       "<tr>\n",
       "  <th>Dep. Variable:</th>         <td>MSFT.O</td>      <th>  R-squared:         </th>  <td>   0.447</td> \n",
       "</tr>\n",
       "<tr>\n",
       "  <th>Model:</th>                   <td>OLS</td>       <th>  Adj. R-squared:    </th>  <td>   0.447</td> \n",
       "</tr>\n",
       "<tr>\n",
       "  <th>Method:</th>             <td>Least Squares</td>  <th>  F-statistic:       </th>  <td>   1664.</td> \n",
       "</tr>\n",
       "<tr>\n",
       "  <th>Date:</th>             <td>Tue, 06 Apr 2021</td> <th>  Prob (F-statistic):</th>  <td>4.30e-267</td>\n",
       "</tr>\n",
       "<tr>\n",
       "  <th>Time:</th>                 <td>17:26:41</td>     <th>  Log-Likelihood:    </th>  <td>  6446.9</td> \n",
       "</tr>\n",
       "<tr>\n",
       "  <th>No. Observations:</th>      <td>  2061</td>      <th>  AIC:               </th> <td>-1.289e+04</td>\n",
       "</tr>\n",
       "<tr>\n",
       "  <th>Df Residuals:</th>          <td>  2059</td>      <th>  BIC:               </th> <td>-1.288e+04</td>\n",
       "</tr>\n",
       "<tr>\n",
       "  <th>Df Model:</th>              <td>     1</td>      <th>                     </th>      <td> </td>    \n",
       "</tr>\n",
       "<tr>\n",
       "  <th>Covariance Type:</th>      <td>nonrobust</td>    <th>                     </th>      <td> </td>    \n",
       "</tr>\n",
       "</table>\n",
       "<table class=\"simpletable\">\n",
       "<tr>\n",
       "    <td></td>       <th>coef</th>     <th>std err</th>      <th>t</th>      <th>P>|t|</th>  <th>[0.025</th>    <th>0.975]</th>  \n",
       "</tr>\n",
       "<tr>\n",
       "  <th>const</th> <td> 9.684e-05</td> <td>    0.000</td> <td>    0.414</td> <td> 0.679</td> <td>   -0.000</td> <td>    0.001</td>\n",
       "</tr>\n",
       "<tr>\n",
       "  <th>.SPX</th>  <td>    1.0163</td> <td>    0.025</td> <td>   40.788</td> <td> 0.000</td> <td>    0.967</td> <td>    1.065</td>\n",
       "</tr>\n",
       "</table>\n",
       "<table class=\"simpletable\">\n",
       "<tr>\n",
       "  <th>Omnibus:</th>       <td>511.627</td> <th>  Durbin-Watson:     </th> <td>   2.039</td> \n",
       "</tr>\n",
       "<tr>\n",
       "  <th>Prob(Omnibus):</th> <td> 0.000</td>  <th>  Jarque-Bera (JB):  </th> <td>31419.464</td>\n",
       "</tr>\n",
       "<tr>\n",
       "  <th>Skew:</th>          <td>-0.093</td>  <th>  Prob(JB):          </th> <td>    0.00</td> \n",
       "</tr>\n",
       "<tr>\n",
       "  <th>Kurtosis:</th>      <td>22.127</td>  <th>  Cond. No.          </th> <td>    107.</td> \n",
       "</tr>\n",
       "</table><br/><br/>Notes:<br/>[1] Standard Errors assume that the covariance matrix of the errors is correctly specified."
      ],
      "text/plain": [
       "<class 'statsmodels.iolib.summary.Summary'>\n",
       "\"\"\"\n",
       "                            OLS Regression Results                            \n",
       "==============================================================================\n",
       "Dep. Variable:                 MSFT.O   R-squared:                       0.447\n",
       "Model:                            OLS   Adj. R-squared:                  0.447\n",
       "Method:                 Least Squares   F-statistic:                     1664.\n",
       "Date:                Tue, 06 Apr 2021   Prob (F-statistic):          4.30e-267\n",
       "Time:                        17:26:41   Log-Likelihood:                 6446.9\n",
       "No. Observations:                2061   AIC:                        -1.289e+04\n",
       "Df Residuals:                    2059   BIC:                        -1.288e+04\n",
       "Df Model:                           1                                         \n",
       "Covariance Type:            nonrobust                                         \n",
       "==============================================================================\n",
       "                 coef    std err          t      P>|t|      [0.025      0.975]\n",
       "------------------------------------------------------------------------------\n",
       "const       9.684e-05      0.000      0.414      0.679      -0.000       0.001\n",
       ".SPX           1.0163      0.025     40.788      0.000       0.967       1.065\n",
       "==============================================================================\n",
       "Omnibus:                      511.627   Durbin-Watson:                   2.039\n",
       "Prob(Omnibus):                  0.000   Jarque-Bera (JB):            31419.464\n",
       "Skew:                          -0.093   Prob(JB):                         0.00\n",
       "Kurtosis:                      22.127   Cond. No.                         107.\n",
       "==============================================================================\n",
       "\n",
       "Notes:\n",
       "[1] Standard Errors assume that the covariance matrix of the errors is correctly specified.\n",
       "\"\"\""
      ]
     },
     "execution_count": 158,
     "metadata": {},
     "output_type": "execute_result"
    }
   ],
   "source": [
    "# For MSFT\n",
    "model_MSFT = regression.linear_model.OLS(returns['MSFT.O'], xvars).fit()\n",
    "model_MSFT.summary()"
   ]
  },
  {
   "cell_type": "code",
   "execution_count": 159,
   "metadata": {},
   "outputs": [
    {
     "data": {
      "text/html": [
       "<table class=\"simpletable\">\n",
       "<caption>OLS Regression Results</caption>\n",
       "<tr>\n",
       "  <th>Dep. Variable:</th>         <td>AMZN.O</td>      <th>  R-squared:         </th>  <td>   0.281</td> \n",
       "</tr>\n",
       "<tr>\n",
       "  <th>Model:</th>                   <td>OLS</td>       <th>  Adj. R-squared:    </th>  <td>   0.281</td> \n",
       "</tr>\n",
       "<tr>\n",
       "  <th>Method:</th>             <td>Least Squares</td>  <th>  F-statistic:       </th>  <td>   806.6</td> \n",
       "</tr>\n",
       "<tr>\n",
       "  <th>Date:</th>             <td>Tue, 06 Apr 2021</td> <th>  Prob (F-statistic):</th>  <td>5.23e-150</td>\n",
       "</tr>\n",
       "<tr>\n",
       "  <th>Time:</th>                 <td>17:26:46</td>     <th>  Log-Likelihood:    </th>  <td>  5531.4</td> \n",
       "</tr>\n",
       "<tr>\n",
       "  <th>No. Observations:</th>      <td>  2061</td>      <th>  AIC:               </th> <td>-1.106e+04</td>\n",
       "</tr>\n",
       "<tr>\n",
       "  <th>Df Residuals:</th>          <td>  2059</td>      <th>  BIC:               </th> <td>-1.105e+04</td>\n",
       "</tr>\n",
       "<tr>\n",
       "  <th>Df Model:</th>              <td>     1</td>      <th>                     </th>      <td> </td>    \n",
       "</tr>\n",
       "<tr>\n",
       "  <th>Covariance Type:</th>      <td>nonrobust</td>    <th>                     </th>      <td> </td>    \n",
       "</tr>\n",
       "</table>\n",
       "<table class=\"simpletable\">\n",
       "<tr>\n",
       "    <td></td>       <th>coef</th>     <th>std err</th>      <th>t</th>      <th>P>|t|</th>  <th>[0.025</th>    <th>0.975]</th>  \n",
       "</tr>\n",
       "<tr>\n",
       "  <th>const</th> <td>    0.0007</td> <td>    0.000</td> <td>    1.953</td> <td> 0.051</td> <td>-3.01e-06</td> <td>    0.001</td>\n",
       "</tr>\n",
       "<tr>\n",
       "  <th>.SPX</th>  <td>    1.1034</td> <td>    0.039</td> <td>   28.402</td> <td> 0.000</td> <td>    1.027</td> <td>    1.180</td>\n",
       "</tr>\n",
       "</table>\n",
       "<table class=\"simpletable\">\n",
       "<tr>\n",
       "  <th>Omnibus:</th>       <td>529.961</td> <th>  Durbin-Watson:     </th> <td>   2.009</td> \n",
       "</tr>\n",
       "<tr>\n",
       "  <th>Prob(Omnibus):</th> <td> 0.000</td>  <th>  Jarque-Bera (JB):  </th> <td>24886.211</td>\n",
       "</tr>\n",
       "<tr>\n",
       "  <th>Skew:</th>          <td> 0.379</td>  <th>  Prob(JB):          </th> <td>    0.00</td> \n",
       "</tr>\n",
       "<tr>\n",
       "  <th>Kurtosis:</th>      <td>20.007</td>  <th>  Cond. No.          </th> <td>    107.</td> \n",
       "</tr>\n",
       "</table><br/><br/>Notes:<br/>[1] Standard Errors assume that the covariance matrix of the errors is correctly specified."
      ],
      "text/plain": [
       "<class 'statsmodels.iolib.summary.Summary'>\n",
       "\"\"\"\n",
       "                            OLS Regression Results                            \n",
       "==============================================================================\n",
       "Dep. Variable:                 AMZN.O   R-squared:                       0.281\n",
       "Model:                            OLS   Adj. R-squared:                  0.281\n",
       "Method:                 Least Squares   F-statistic:                     806.6\n",
       "Date:                Tue, 06 Apr 2021   Prob (F-statistic):          5.23e-150\n",
       "Time:                        17:26:46   Log-Likelihood:                 5531.4\n",
       "No. Observations:                2061   AIC:                        -1.106e+04\n",
       "Df Residuals:                    2059   BIC:                        -1.105e+04\n",
       "Df Model:                           1                                         \n",
       "Covariance Type:            nonrobust                                         \n",
       "==============================================================================\n",
       "                 coef    std err          t      P>|t|      [0.025      0.975]\n",
       "------------------------------------------------------------------------------\n",
       "const          0.0007      0.000      1.953      0.051   -3.01e-06       0.001\n",
       ".SPX           1.1034      0.039     28.402      0.000       1.027       1.180\n",
       "==============================================================================\n",
       "Omnibus:                      529.961   Durbin-Watson:                   2.009\n",
       "Prob(Omnibus):                  0.000   Jarque-Bera (JB):            24886.211\n",
       "Skew:                           0.379   Prob(JB):                         0.00\n",
       "Kurtosis:                      20.007   Cond. No.                         107.\n",
       "==============================================================================\n",
       "\n",
       "Notes:\n",
       "[1] Standard Errors assume that the covariance matrix of the errors is correctly specified.\n",
       "\"\"\""
      ]
     },
     "execution_count": 159,
     "metadata": {},
     "output_type": "execute_result"
    }
   ],
   "source": [
    "# For AMZN\n",
    "model_AMZN = regression.linear_model.OLS(returns['AMZN.O'], xvars).fit()\n",
    "model_AMZN.summary()"
   ]
  },
  {
   "cell_type": "code",
   "execution_count": 160,
   "metadata": {},
   "outputs": [
    {
     "data": {
      "text/html": [
       "<table class=\"simpletable\">\n",
       "<caption>OLS Regression Results</caption>\n",
       "<tr>\n",
       "  <th>Dep. Variable:</th>          <td>GS.N</td>       <th>  R-squared:         </th>  <td>   0.513</td> \n",
       "</tr>\n",
       "<tr>\n",
       "  <th>Model:</th>                   <td>OLS</td>       <th>  Adj. R-squared:    </th>  <td>   0.513</td> \n",
       "</tr>\n",
       "<tr>\n",
       "  <th>Method:</th>             <td>Least Squares</td>  <th>  F-statistic:       </th>  <td>   2169.</td> \n",
       "</tr>\n",
       "<tr>\n",
       "  <th>Date:</th>             <td>Tue, 06 Apr 2021</td> <th>  Prob (F-statistic):</th>  <td>4.94e-324</td>\n",
       "</tr>\n",
       "<tr>\n",
       "  <th>Time:</th>                 <td>17:27:18</td>     <th>  Log-Likelihood:    </th>  <td>  6261.9</td> \n",
       "</tr>\n",
       "<tr>\n",
       "  <th>No. Observations:</th>      <td>  2061</td>      <th>  AIC:               </th> <td>-1.252e+04</td>\n",
       "</tr>\n",
       "<tr>\n",
       "  <th>Df Residuals:</th>          <td>  2059</td>      <th>  BIC:               </th> <td>-1.251e+04</td>\n",
       "</tr>\n",
       "<tr>\n",
       "  <th>Df Model:</th>              <td>     1</td>      <th>                     </th>      <td> </td>    \n",
       "</tr>\n",
       "<tr>\n",
       "  <th>Covariance Type:</th>      <td>nonrobust</td>    <th>                     </th>      <td> </td>    \n",
       "</tr>\n",
       "</table>\n",
       "<table class=\"simpletable\">\n",
       "<tr>\n",
       "    <td></td>       <th>coef</th>     <th>std err</th>      <th>t</th>      <th>P>|t|</th>  <th>[0.025</th>    <th>0.975]</th>  \n",
       "</tr>\n",
       "<tr>\n",
       "  <th>const</th> <td>   -0.0004</td> <td>    0.000</td> <td>   -1.465</td> <td> 0.143</td> <td>   -0.001</td> <td>    0.000</td>\n",
       "</tr>\n",
       "<tr>\n",
       "  <th>.SPX</th>  <td>    1.2693</td> <td>    0.027</td> <td>   46.568</td> <td> 0.000</td> <td>    1.216</td> <td>    1.323</td>\n",
       "</tr>\n",
       "</table>\n",
       "<table class=\"simpletable\">\n",
       "<tr>\n",
       "  <th>Omnibus:</th>       <td>392.875</td> <th>  Durbin-Watson:     </th> <td>   2.027</td>\n",
       "</tr>\n",
       "<tr>\n",
       "  <th>Prob(Omnibus):</th> <td> 0.000</td>  <th>  Jarque-Bera (JB):  </th> <td>5251.620</td>\n",
       "</tr>\n",
       "<tr>\n",
       "  <th>Skew:</th>          <td>-0.491</td>  <th>  Prob(JB):          </th> <td>    0.00</td>\n",
       "</tr>\n",
       "<tr>\n",
       "  <th>Kurtosis:</th>      <td>10.758</td>  <th>  Cond. No.          </th> <td>    107.</td>\n",
       "</tr>\n",
       "</table><br/><br/>Notes:<br/>[1] Standard Errors assume that the covariance matrix of the errors is correctly specified."
      ],
      "text/plain": [
       "<class 'statsmodels.iolib.summary.Summary'>\n",
       "\"\"\"\n",
       "                            OLS Regression Results                            \n",
       "==============================================================================\n",
       "Dep. Variable:                   GS.N   R-squared:                       0.513\n",
       "Model:                            OLS   Adj. R-squared:                  0.513\n",
       "Method:                 Least Squares   F-statistic:                     2169.\n",
       "Date:                Tue, 06 Apr 2021   Prob (F-statistic):          4.94e-324\n",
       "Time:                        17:27:18   Log-Likelihood:                 6261.9\n",
       "No. Observations:                2061   AIC:                        -1.252e+04\n",
       "Df Residuals:                    2059   BIC:                        -1.251e+04\n",
       "Df Model:                           1                                         \n",
       "Covariance Type:            nonrobust                                         \n",
       "==============================================================================\n",
       "                 coef    std err          t      P>|t|      [0.025      0.975]\n",
       "------------------------------------------------------------------------------\n",
       "const         -0.0004      0.000     -1.465      0.143      -0.001       0.000\n",
       ".SPX           1.2693      0.027     46.568      0.000       1.216       1.323\n",
       "==============================================================================\n",
       "Omnibus:                      392.875   Durbin-Watson:                   2.027\n",
       "Prob(Omnibus):                  0.000   Jarque-Bera (JB):             5251.620\n",
       "Skew:                          -0.491   Prob(JB):                         0.00\n",
       "Kurtosis:                      10.758   Cond. No.                         107.\n",
       "==============================================================================\n",
       "\n",
       "Notes:\n",
       "[1] Standard Errors assume that the covariance matrix of the errors is correctly specified.\n",
       "\"\"\""
      ]
     },
     "execution_count": 160,
     "metadata": {},
     "output_type": "execute_result"
    }
   ],
   "source": [
    "# For GS.N\n",
    "model_GSN = regression.linear_model.OLS(returns['GS.N'], xvars).fit()\n",
    "model_GSN.summary()"
   ]
  },
  {
   "cell_type": "code",
   "execution_count": 161,
   "metadata": {},
   "outputs": [
    {
     "data": {
      "text/html": [
       "<table class=\"simpletable\">\n",
       "<caption>OLS Regression Results</caption>\n",
       "<tr>\n",
       "  <th>Dep. Variable:</th>          <td>.VIX</td>       <th>  R-squared:         </th> <td>   0.650</td>\n",
       "</tr>\n",
       "<tr>\n",
       "  <th>Model:</th>                   <td>OLS</td>       <th>  Adj. R-squared:    </th> <td>   0.650</td>\n",
       "</tr>\n",
       "<tr>\n",
       "  <th>Method:</th>             <td>Least Squares</td>  <th>  F-statistic:       </th> <td>   3832.</td>\n",
       "</tr>\n",
       "<tr>\n",
       "  <th>Date:</th>             <td>Tue, 06 Apr 2021</td> <th>  Prob (F-statistic):</th>  <td>  0.00</td> \n",
       "</tr>\n",
       "<tr>\n",
       "  <th>Time:</th>                 <td>17:27:56</td>     <th>  Log-Likelihood:    </th> <td>  3438.2</td>\n",
       "</tr>\n",
       "<tr>\n",
       "  <th>No. Observations:</th>      <td>  2061</td>      <th>  AIC:               </th> <td>  -6872.</td>\n",
       "</tr>\n",
       "<tr>\n",
       "  <th>Df Residuals:</th>          <td>  2059</td>      <th>  BIC:               </th> <td>  -6861.</td>\n",
       "</tr>\n",
       "<tr>\n",
       "  <th>Df Model:</th>              <td>     1</td>      <th>                     </th>     <td> </td>   \n",
       "</tr>\n",
       "<tr>\n",
       "  <th>Covariance Type:</th>      <td>nonrobust</td>    <th>                     </th>     <td> </td>   \n",
       "</tr>\n",
       "</table>\n",
       "<table class=\"simpletable\">\n",
       "<tr>\n",
       "    <td></td>       <th>coef</th>     <th>std err</th>      <th>t</th>      <th>P>|t|</th>  <th>[0.025</th>    <th>0.975]</th>  \n",
       "</tr>\n",
       "<tr>\n",
       "  <th>const</th> <td>    0.0011</td> <td>    0.001</td> <td>    1.133</td> <td> 0.257</td> <td>   -0.001</td> <td>    0.003</td>\n",
       "</tr>\n",
       "<tr>\n",
       "  <th>.SPX</th>  <td>   -6.6405</td> <td>    0.107</td> <td>  -61.904</td> <td> 0.000</td> <td>   -6.851</td> <td>   -6.430</td>\n",
       "</tr>\n",
       "</table>\n",
       "<table class=\"simpletable\">\n",
       "<tr>\n",
       "  <th>Omnibus:</th>       <td>529.093</td> <th>  Durbin-Watson:     </th> <td>   2.109</td>\n",
       "</tr>\n",
       "<tr>\n",
       "  <th>Prob(Omnibus):</th> <td> 0.000</td>  <th>  Jarque-Bera (JB):  </th> <td>7544.657</td>\n",
       "</tr>\n",
       "<tr>\n",
       "  <th>Skew:</th>          <td> 0.805</td>  <th>  Prob(JB):          </th> <td>    0.00</td>\n",
       "</tr>\n",
       "<tr>\n",
       "  <th>Kurtosis:</th>      <td>12.234</td>  <th>  Cond. No.          </th> <td>    107.</td>\n",
       "</tr>\n",
       "</table><br/><br/>Notes:<br/>[1] Standard Errors assume that the covariance matrix of the errors is correctly specified."
      ],
      "text/plain": [
       "<class 'statsmodels.iolib.summary.Summary'>\n",
       "\"\"\"\n",
       "                            OLS Regression Results                            \n",
       "==============================================================================\n",
       "Dep. Variable:                   .VIX   R-squared:                       0.650\n",
       "Model:                            OLS   Adj. R-squared:                  0.650\n",
       "Method:                 Least Squares   F-statistic:                     3832.\n",
       "Date:                Tue, 06 Apr 2021   Prob (F-statistic):               0.00\n",
       "Time:                        17:27:56   Log-Likelihood:                 3438.2\n",
       "No. Observations:                2061   AIC:                            -6872.\n",
       "Df Residuals:                    2059   BIC:                            -6861.\n",
       "Df Model:                           1                                         \n",
       "Covariance Type:            nonrobust                                         \n",
       "==============================================================================\n",
       "                 coef    std err          t      P>|t|      [0.025      0.975]\n",
       "------------------------------------------------------------------------------\n",
       "const          0.0011      0.001      1.133      0.257      -0.001       0.003\n",
       ".SPX          -6.6405      0.107    -61.904      0.000      -6.851      -6.430\n",
       "==============================================================================\n",
       "Omnibus:                      529.093   Durbin-Watson:                   2.109\n",
       "Prob(Omnibus):                  0.000   Jarque-Bera (JB):             7544.657\n",
       "Skew:                           0.805   Prob(JB):                         0.00\n",
       "Kurtosis:                      12.234   Cond. No.                         107.\n",
       "==============================================================================\n",
       "\n",
       "Notes:\n",
       "[1] Standard Errors assume that the covariance matrix of the errors is correctly specified.\n",
       "\"\"\""
      ]
     },
     "execution_count": 161,
     "metadata": {},
     "output_type": "execute_result"
    }
   ],
   "source": [
    "# For VIX\n",
    "model_VIX = regression.linear_model.OLS(returns['.VIX'], xvars).fit()\n",
    "model_VIX.summary()"
   ]
  },
  {
   "cell_type": "markdown",
   "metadata": {},
   "source": [
    "For MSFT:\n",
    "- Alpha = 9.684e-05; Beta = 1.0163\n",
    "\n",
    "For AMZN:\n",
    "- Alpha = 0.0007; Beta = 1.1034\n",
    "\n",
    "For GS.N:\n",
    "- Alpha = -0.0004; Beta = 1.2693\n",
    "\n",
    "For VIX:\n",
    "- Alpha = 0.0011; Beta = -6.6405"
   ]
  }
 ],
 "metadata": {
  "kernelspec": {
   "display_name": "Python 3",
   "language": "python",
   "name": "python3"
  },
  "language_info": {
   "codemirror_mode": {
    "name": "ipython",
    "version": 3
   },
   "file_extension": ".py",
   "mimetype": "text/x-python",
   "name": "python",
   "nbconvert_exporter": "python",
   "pygments_lexer": "ipython3",
   "version": "3.8.5"
  }
 },
 "nbformat": 4,
 "nbformat_minor": 2
}
