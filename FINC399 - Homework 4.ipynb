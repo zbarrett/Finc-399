{
 "cells": [
  {
   "cell_type": "markdown",
   "metadata": {},
   "source": [
    "__Group Member Names:__ ...\n",
    "\n",
    "\n",
    "---"
   ]
  },
  {
   "cell_type": "markdown",
   "metadata": {},
   "source": [
    "# Homework 4\n",
    "__Guideline:__ \n",
    "* Please write the names of all group members to the __\"Group Member Names:\"__ line above. \n",
    "* Download the data file __tr_eikon_eod_data.csv__ from Sakai (book data) to complete this assignment.\n",
    "* For the questions that require verbal answers, please answer them in their respective answer cells. \n",
    "* For the questions that require code, if your code doesn't work, please include a comment describing your algorithm (if code works well, no explanation is needed). \n",
    "* Questions 1 and 3 are each worth 3 points. Questions 2 and 4 are each worth 2 points.\n",
    "* This homework is due on __Apr. 7, 2021, 5:30 pm.__ You need to upload your completed homework assignment to Sakai as a Jupyter Notebook file (.ipynb) until that time.\n",
    "---"
   ]
  },
  {
   "cell_type": "code",
   "execution_count": 2,
   "metadata": {},
   "outputs": [],
   "source": [
    "import numpy as np    \n",
    "import pandas as pd\n",
    "import datetime as dt                            # Date formats\n",
    "import pandas_datareader.data as web             # Downloading data from web\n",
    "import matplotlib as mpl                         # Plots\n",
    "import matplotlib.pyplot as plt\n",
    "from statsmodels import regression               # Regressions\n",
    "import statsmodels.api as sm\n",
    "import math                                      # Mathematical functions\n",
    "import scipy.optimize as sco                     # Optimizations\n",
    "import scipy.interpolate as sci                  # Interpolations"
   ]
  },
  {
   "cell_type": "code",
   "execution_count": 3,
   "metadata": {},
   "outputs": [],
   "source": [
    "# Import the data (replace the path with your own):\n",
    "raw = pd.read_csv('C:/Users/Guner Velioglu/Desktop/Jupyter/Data/tr_eikon_eod_data.csv', index_col=0, parse_dates=True)"
   ]
  },
  {
   "cell_type": "markdown",
   "metadata": {},
   "source": [
    "---"
   ]
  },
  {
   "cell_type": "markdown",
   "metadata": {},
   "source": [
    "## Question 1"
   ]
  },
  {
   "cell_type": "markdown",
   "metadata": {},
   "source": [
    "Construct the investment opportunity set of Microsoft and Intel stocks.\n",
    "\n",
    "Calculate portfolio return and portfolio standard deviation for each level of weight (w) and (1-w), with increments of 0.01, where \"w\" will be the weight of MSFT and (1-w) will be the weight of INTC stock.\n",
    "\n",
    "__Graph__ the portfolio return and portfolio standard deviation for each weight with increments of 0.01. (e.g., weight (w) can take values between 0 and 1, inclusive, with increments of 0.01: 0.00, 0.01, 0.02,... 0.99, 1.00 etc.) \n",
    "\n",
    "You may get the security prices data from __tr_eikon_eod_data.csv__ file on Sakai. Retrieve the following columns: MSFT.O, INTC.O."
   ]
  },
  {
   "cell_type": "code",
   "execution_count": null,
   "metadata": {},
   "outputs": [],
   "source": []
  },
  {
   "cell_type": "markdown",
   "metadata": {},
   "source": [
    "---"
   ]
  },
  {
   "cell_type": "markdown",
   "metadata": {},
   "source": [
    "## Question 2\n",
    "Suppose we have an investor that is trying to decide on investing \\$1000 between two securities (a and b). Both securities cost 10 dollars per unit. A year later security a and b will pay 30 dollars and 5 dollars, respectively in state _u_. And in state _d_, security a will pay 5 dollars, and security b will pay 12 dollars. \n",
    "\n",
    "The state _u_  is likely to occur with 30% probability while the state _d_ is likely to occur with 70% probability. And the investor's utility function is _u(w) = w ** 0.5_ (square root of wealth).\n",
    "\n",
    "How much __money__ out of the total investment of \\$1000 the investor should put into each security to maximize the utility?"
   ]
  },
  {
   "cell_type": "code",
   "execution_count": null,
   "metadata": {},
   "outputs": [],
   "source": []
  },
  {
   "cell_type": "markdown",
   "metadata": {},
   "source": [
    "---"
   ]
  },
  {
   "cell_type": "markdown",
   "metadata": {},
   "source": [
    "## Question 3\n",
    "Import the __tr_eikon_eod_data.csv__ file from Sakai. Retrieve the following columns: MSFT.O, AMZN.O, .VIX, INTC.O, AAPL.O\n",
    "\n",
    "(Alternatively, if you can't get the import to work for some reason, use pandas-datareader to download and merge the stock prices (Adj Close) of MSFT, AMZN, ^VIX, INTC, and AAPL for the last 10 years.)\n",
    "\n",
    "Assume that risk-free rate is 1% = 0.01. "
   ]
  },
  {
   "cell_type": "markdown",
   "metadata": {},
   "source": [
    "a) Write/define functions that calculate the portfolio return and portfolio volatility, respectively. If you put __equal__ amount of your money into each security (equal weight), what would be your portfolio return? What would be the __Sharpe Ratio__ of this equal-weighted portfolio?"
   ]
  },
  {
   "cell_type": "code",
   "execution_count": null,
   "metadata": {
    "scrolled": true
   },
   "outputs": [],
   "source": []
  },
  {
   "cell_type": "markdown",
   "metadata": {},
   "source": [
    "b) Write a program that calculates the weights for the optimal risky portfolio. What is the return of __optimal__ portfolio? What is the __Sharpe Ratio__ of this optimal portfolio?"
   ]
  },
  {
   "cell_type": "code",
   "execution_count": null,
   "metadata": {},
   "outputs": [],
   "source": []
  },
  {
   "cell_type": "markdown",
   "metadata": {},
   "source": [
    "---"
   ]
  },
  {
   "cell_type": "markdown",
   "metadata": {},
   "source": [
    "## Question 4"
   ]
  },
  {
   "cell_type": "markdown",
   "metadata": {},
   "source": [
    "Import the __tr_eikon_eod_data.csv__ file from Sakai. You'll need the following columns: MSFT.O, AMZN.O, GS.N, .VIX, .SPX.\n",
    "\n",
    "(Alternatively, if you can't get the import to work for some reason, use pandas-datareader to download and merge the stock prices (Adj Close) of MSFT, AMZN, GS, ^VIX, and ^GSPC for the last 10 years.)\n",
    "\n",
    "Assume that .SPX represents the market, and that the returns calculated on .SPX are market returns. Further, assume that annual risk-free rate is 1% = 0.01. "
   ]
  },
  {
   "cell_type": "markdown",
   "metadata": {},
   "source": [
    "Using the regression analysis, according to CAPM model, calculate the alpha and beta for each of these stocks and indexes. "
   ]
  },
  {
   "cell_type": "code",
   "execution_count": null,
   "metadata": {},
   "outputs": [],
   "source": []
  }
 ],
 "metadata": {
  "kernelspec": {
   "display_name": "Python 3",
   "language": "python",
   "name": "python3"
  },
  "language_info": {
   "codemirror_mode": {
    "name": "ipython",
    "version": 3
   },
   "file_extension": ".py",
   "mimetype": "text/x-python",
   "name": "python",
   "nbconvert_exporter": "python",
   "pygments_lexer": "ipython3",
   "version": "3.8.3"
  }
 },
 "nbformat": 4,
 "nbformat_minor": 2
}
