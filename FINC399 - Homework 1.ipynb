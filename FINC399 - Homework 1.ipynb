{
 "cells": [
  {
   "cell_type": "markdown",
   "metadata": {},
   "source": [
    "__Group Member Names:__ Zach Barrett, Ashton Hansen\n",
    "\n",
    "\n",
    "---"
   ]
  },
  {
   "cell_type": "markdown",
   "metadata": {},
   "source": [
    "# Homework 1\n",
    "__Guidelines:__ \n",
    "* Please write the names of all group members to the __\"Group Member Names:\"__ line above. \n",
    "* For the questions that require verbal answers, please answer them in their respective answer cells. \n",
    "* For the questions that require code, you should write your code in the cell provided. If your code doesn't work, please include a comment describing your algorithm (if code works well, no explanation is needed). \n",
    "* This homework is due on __Feb. 17, 5:30 pm.__ You need to upload your completed homework assignment to Sakai as a Jupyter Notebook file (.ipynb) until that time.\n",
    "---"
   ]
  },
  {
   "cell_type": "markdown",
   "metadata": {},
   "source": [
    "## __Question 1:__  "
   ]
  },
  {
   "cell_type": "markdown",
   "metadata": {},
   "source": [
    "a) Does the following code run without error? If so, what does it produce? If not, why?"
   ]
  },
  {
   "cell_type": "code",
   "execution_count": 1,
   "metadata": {},
   "outputs": [
    {
     "ename": "TypeError",
     "evalue": "unsupported operand type(s) for +: 'float' and 'str'",
     "output_type": "error",
     "traceback": [
      "\u001b[1;31m---------------------------------------------------------------------------\u001b[0m",
      "\u001b[1;31mTypeError\u001b[0m                                 Traceback (most recent call last)",
      "\u001b[1;32m<ipython-input-1-e5bb40bde02b>\u001b[0m in \u001b[0;36m<module>\u001b[1;34m\u001b[0m\n\u001b[0;32m      2\u001b[0m \u001b[0ma\u001b[0m \u001b[1;33m=\u001b[0m \u001b[0ma\u001b[0m \u001b[1;33m/\u001b[0m \u001b[1;36m4\u001b[0m\u001b[1;33m\u001b[0m\u001b[1;33m\u001b[0m\u001b[0m\n\u001b[0;32m      3\u001b[0m \u001b[0mb\u001b[0m \u001b[1;33m=\u001b[0m \u001b[1;34m'123'\u001b[0m\u001b[1;33m\u001b[0m\u001b[1;33m\u001b[0m\u001b[0m\n\u001b[1;32m----> 4\u001b[1;33m \u001b[0mc\u001b[0m \u001b[1;33m=\u001b[0m \u001b[0ma\u001b[0m \u001b[1;33m+\u001b[0m \u001b[0mb\u001b[0m\u001b[1;33m\u001b[0m\u001b[1;33m\u001b[0m\u001b[0m\n\u001b[0m\u001b[0;32m      5\u001b[0m \u001b[0mprint\u001b[0m\u001b[1;33m(\u001b[0m\u001b[0mc\u001b[0m\u001b[1;33m,\u001b[0m \u001b[0ma\u001b[0m\u001b[1;33m)\u001b[0m\u001b[1;33m\u001b[0m\u001b[1;33m\u001b[0m\u001b[0m\n",
      "\u001b[1;31mTypeError\u001b[0m: unsupported operand type(s) for +: 'float' and 'str'"
     ]
    }
   ],
   "source": [
    "a = 20\n",
    "a = a / 4\n",
    "b = '123'\n",
    "c = a + b\n",
    "print(c, a)"
   ]
  },
  {
   "cell_type": "markdown",
   "metadata": {},
   "source": [
    "__Answer:__ No, this code does not run without error. This code produces a TypeError, because the code attempts to add a float and a string. This operation is not compatible between these types."
   ]
  },
  {
   "cell_type": "markdown",
   "metadata": {},
   "source": [
    "b) Does the following code run without error? If so, what does it produce? If not, what should be changed?"
   ]
  },
  {
   "cell_type": "code",
   "execution_count": 3,
   "metadata": {},
   "outputs": [
    {
     "ename": "SyntaxError",
     "evalue": "unexpected EOF while parsing (<ipython-input-3-7e9b4c283c06>, line 2)",
     "output_type": "error",
     "traceback": [
      "\u001b[1;36m  File \u001b[1;32m\"<ipython-input-3-7e9b4c283c06>\"\u001b[1;36m, line \u001b[1;32m2\u001b[0m\n\u001b[1;33m    # print('The answer to the rain question is:' rain_indicator)\u001b[0m\n\u001b[1;37m                                                                 ^\u001b[0m\n\u001b[1;31mSyntaxError\u001b[0m\u001b[1;31m:\u001b[0m unexpected EOF while parsing\n"
     ]
    }
   ],
   "source": [
    "rain_indicator = input('Is it raining outside? (Yes/No))'\n",
    "print('The answer to the rain question is:' rain_indicator)"
   ]
  },
  {
   "cell_type": "markdown",
   "metadata": {},
   "source": [
    "__Answer:__ This code does not run without error. The apostraphe needs to come before the last parenthese\n",
    "\n",
    "i.e. input('Is it raining outside? (Yes/No)')"
   ]
  },
  {
   "cell_type": "markdown",
   "metadata": {},
   "source": [
    "---"
   ]
  },
  {
   "cell_type": "markdown",
   "metadata": {},
   "source": [
    "## Question 2:\n",
    "a) Consider the following code, does it seem to ignore any of the best practices we talked about? If so, which one?"
   ]
  },
  {
   "cell_type": "code",
   "execution_count": null,
   "metadata": {},
   "outputs": [],
   "source": [
    "variable1 = 'variable2'\n",
    "variable2 = 'variable1'\n",
    "print(variable2, 'is better than', variable1)"
   ]
  },
  {
   "cell_type": "markdown",
   "metadata": {},
   "source": [
    "__Answer:__ Variable names should be informative"
   ]
  },
  {
   "cell_type": "markdown",
   "metadata": {},
   "source": [
    "b) Consider the following code. Do you think that it is working as intended? If not, what should be changed?"
   ]
  },
  {
   "cell_type": "code",
   "execution_count": 7,
   "metadata": {},
   "outputs": [
    {
     "name": "stdout",
     "output_type": "stream",
     "text": [
      "The net income of the company is: 289420\n"
     ]
    }
   ],
   "source": [
    "# Calculate the net income of company according to following formula: (Total Revenue - Total Cost) * (1 - Tax rate)\n",
    "price_per_unit = 20\n",
    "cost_per_unit = 10\n",
    "quantity_sold = 1000\n",
    "tax_rate_in_percentages = 30\n",
    "net_income = (price_per_unit - cost_per_unit * quantity_sold) * (1 - tax_rate_in_percentages)\n",
    "print('The net income of the company is:', net_income)"
   ]
  },
  {
   "cell_type": "markdown",
   "metadata": {},
   "source": [
    "__Answer:__ The order of operations that python uses causes this code chunk to be executed incorrectly.  In addition to this, there is an inconsistency with the use of percentages/decimals. The tax rate needs to either be a decimal (.3) or the 1 needs to be changed to 100. The correct calculation would be:\n",
    "net_income = ((price_per_unit - cost_per_unit) * quantity_sold) * (100 - tax_rate_in_percentages)"
   ]
  },
  {
   "cell_type": "markdown",
   "metadata": {},
   "source": [
    "---"
   ]
  },
  {
   "cell_type": "markdown",
   "metadata": {},
   "source": [
    "## Question 3:\n",
    "Consider the following string variable, which consists of a quote by Zig Ziglar, s = \"You don't have to be great to start, but you have to start to be great.\""
   ]
  },
  {
   "cell_type": "markdown",
   "metadata": {},
   "source": [
    "a) Is the following true?: \"This quote has the same number of characters before and after the comma (including blanks).\". Write a program shows the number of characters before and after the comma (including blanks)."
   ]
  },
  {
   "cell_type": "code",
   "execution_count": 21,
   "metadata": {},
   "outputs": [],
   "source": [
    "s = \"You don't have to be great to start, but you have to start to be great.\"\n",
    "\n",
    "def charCommaCounter(string):\n",
    "    # getting index of comma\n",
    "    comma_index = string.index(',')\n",
    "    \n",
    "    # splitting string into pre/post comma\n",
    "    pre_comma = string[:comma_index] # note: comma is not included (stop is not inclusive)\n",
    "    post_comma = string[comma_index+1:] # +1 to not include comma\n",
    "    \n",
    "    print(\"chars before comma: \", len(pre_comma))\n",
    "    print(\"chars after comma: \", len(post_comma))"
   ]
  },
  {
   "cell_type": "code",
   "execution_count": 22,
   "metadata": {},
   "outputs": [
    {
     "name": "stdout",
     "output_type": "stream",
     "text": [
      "chars before comma:  35\n",
      "chars after comma:  35\n"
     ]
    }
   ],
   "source": [
    "charCommaCounter(s)"
   ]
  },
  {
   "cell_type": "markdown",
   "metadata": {},
   "source": [
    "True"
   ]
  },
  {
   "cell_type": "markdown",
   "metadata": {},
   "source": [
    "b) Is the following true?: \"This quote has the same number of characters before and after the comma (excluding blanks).\". Write a program shows the number of characters before and after the comma (excluding blanks)."
   ]
  },
  {
   "cell_type": "code",
   "execution_count": 25,
   "metadata": {},
   "outputs": [],
   "source": [
    "def charCommaCounterNoWhitespace(string):\n",
    "    s = string.replace(' ', '') # replacing spaces with empty string (nothing)\n",
    "    charCommaCounter(s) # using above method with preprocessed string"
   ]
  },
  {
   "cell_type": "code",
   "execution_count": 26,
   "metadata": {},
   "outputs": [
    {
     "name": "stdout",
     "output_type": "stream",
     "text": [
      "chars before comma:  28\n",
      "chars after comma:  27\n"
     ]
    }
   ],
   "source": [
    "charCommaCounterNoWhitespace(s)"
   ]
  },
  {
   "cell_type": "markdown",
   "metadata": {},
   "source": [
    "False"
   ]
  },
  {
   "cell_type": "markdown",
   "metadata": {},
   "source": [
    "---"
   ]
  },
  {
   "cell_type": "markdown",
   "metadata": {},
   "source": [
    "## Question 4:\n",
    "\n",
    "Write a program that, once executed, asks user to input the following:\n",
    "* Investment term in years\n",
    "* Yearly rate of return\n",
    "\n",
    "And then, based on these two numbers, the program should print out how much initial investment is required to reach 1 million dollars. You may assume annual compounding (i.e., Present value = Future value / $(1+r)^{t}$ ). Basically, as the user of the program we'd like to know, based on how long we want to invest our money and the prevailing rate of return, how much initial investment is needed to reach 1 million dollars."
   ]
  },
  {
   "cell_type": "code",
   "execution_count": 47,
   "metadata": {},
   "outputs": [],
   "source": [
    "import math\n",
    "\n",
    "def moneyRequiredForMil():    \n",
    "    investment_term = int(input('Please input investment term (in years): '))\n",
    "    yearly_rate_of_return = float(input('Please input yearly rate of return: '))\n",
    "    \n",
    "    # solving for PV\n",
    "    PV = 1000000 / ((1 + yearly_rate_of_return) ** investment_term)\n",
    "    \n",
    "    # rounding to nearest dollar\n",
    "    PV = math.ceil(PV)\n",
    "    return PV"
   ]
  },
  {
   "cell_type": "code",
   "execution_count": 49,
   "metadata": {},
   "outputs": [
    {
     "name": "stdin",
     "output_type": "stream",
     "text": [
      "Please input investment term (in years):  10\n",
      "Please input yearly rate of return:  .07\n"
     ]
    },
    {
     "data": {
      "text/plain": [
       "508350"
      ]
     },
     "execution_count": 49,
     "metadata": {},
     "output_type": "execute_result"
    }
   ],
   "source": [
    "moneyRequiredForMil()"
   ]
  },
  {
   "cell_type": "markdown",
   "metadata": {},
   "source": [
    "---"
   ]
  },
  {
   "cell_type": "markdown",
   "metadata": {},
   "source": [
    "## Question 5:\n",
    "\n",
    "Write a program that, once executed, asks user to input the temperature. Then the program will print out the following statements according to user's input:\n",
    "* 'Hot' if the temperature is greater than 90\n",
    "* 'Moderate' if the temperature is between 60 and 90 (60 and 90 inclusive)\n",
    "* 'Cold' if the temperature is less than 60"
   ]
  },
  {
   "cell_type": "code",
   "execution_count": 50,
   "metadata": {},
   "outputs": [],
   "source": [
    "def temperatureResponse():\n",
    "    temp = int(input('Please input temperature: '))\n",
    "    \n",
    "    # conditionals\n",
    "    if temp > 90:\n",
    "        print('Hot')\n",
    "    elif temp >= 60:\n",
    "        print('Moderate')\n",
    "    else:\n",
    "        print('Cold')"
   ]
  },
  {
   "cell_type": "code",
   "execution_count": 57,
   "metadata": {},
   "outputs": [
    {
     "name": "stdin",
     "output_type": "stream",
     "text": [
      "Please input temperature:  90\n"
     ]
    },
    {
     "name": "stdout",
     "output_type": "stream",
     "text": [
      "Moderate\n"
     ]
    }
   ],
   "source": [
    "temperatureResponse()"
   ]
  }
 ],
 "metadata": {
  "kernelspec": {
   "display_name": "Python 3",
   "language": "python",
   "name": "python3"
  },
  "language_info": {
   "codemirror_mode": {
    "name": "ipython",
    "version": 3
   },
   "file_extension": ".py",
   "mimetype": "text/x-python",
   "name": "python",
   "nbconvert_exporter": "python",
   "pygments_lexer": "ipython3",
   "version": "3.7.4"
  }
 },
 "nbformat": 4,
 "nbformat_minor": 4
}
