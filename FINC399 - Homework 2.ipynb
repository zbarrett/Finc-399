{
 "cells": [
  {
   "cell_type": "markdown",
   "metadata": {},
   "source": [
    "__Group Member Names:__ Ashton Hansen, Zach Barret\n",
    "\n",
    "\n",
    "---"
   ]
  },
  {
   "cell_type": "markdown",
   "metadata": {},
   "source": [
    "# Homework 2\n",
    "__Guidelines:__ \n",
    "* Please write the names of all group members to the __\"Group Member Names:\"__ line above. \n",
    "* For the questions that require verbal answers, please answer them in their respective answer cells. \n",
    "* For the questions that require code, if your code doesn't work, please include a comment describing your algorithm (if code works well, no explanation is needed). \n",
    "* The question 1 is worth 1 point, question 5 is worth 3 points, and the other questions worth 2 points each. (Total: 10)\n",
    "* This homework is due on __Mar. 3, 2021, 5:30 pm.__ You need to upload your completed homework assignment to Sakai as a Jupyter Notebook file (.ipynb) until that time.\n",
    "---"
   ]
  },
  {
   "cell_type": "code",
   "execution_count": 10,
   "metadata": {},
   "outputs": [],
   "source": [
    "import numpy as np         # Run this line at the beginning of your program as some packages will be needed."
   ]
  },
  {
   "cell_type": "markdown",
   "metadata": {},
   "source": [
    "---"
   ]
  },
  {
   "cell_type": "markdown",
   "metadata": {},
   "source": [
    "## Question 1:"
   ]
  },
  {
   "cell_type": "markdown",
   "metadata": {},
   "source": [
    "Write a function that calculates the future value of a current investment as follows.\n",
    "* The function will have three arguments: pv, r, t \n",
    "* pv represents the current investment amount, r represents the yearly rate of return, t represents the investment term in years.\n",
    "* The function should output the future value of the investment.\n",
    "* You may assume annual compounding (i.e., Present value * $(1+r)^{t}$ = Future value).\n",
    "\n",
    "The final function should look like: future_val(pv, r, t), where numbers will be in place of pv, r, t \n",
    "\n",
    "(e.g., after defining the function, running the following in a different cell, for example, should produce the appropriate output: >>> future_val(1000, 0.05, 10)). "
   ]
  },
  {
   "cell_type": "code",
   "execution_count": 6,
   "metadata": {
    "scrolled": false
   },
   "outputs": [
    {
     "data": {
      "text/plain": [
       "1628.89"
      ]
     },
     "execution_count": 6,
     "metadata": {},
     "output_type": "execute_result"
    }
   ],
   "source": [
    "def future_val(pv, r, t):\n",
    "    val = round(pv * (1 + r)**t, 2)\n",
    "    return val\n",
    "future_val(1000, 0.05, 10)"
   ]
  },
  {
   "cell_type": "markdown",
   "metadata": {},
   "source": [
    "---"
   ]
  },
  {
   "cell_type": "markdown",
   "metadata": {},
   "source": [
    "## Question 2:"
   ]
  },
  {
   "cell_type": "markdown",
   "metadata": {},
   "source": [
    "Write a program that calculates the internet bill of a customer, as follows:\n",
    "* The program will first ask how many gigabytes (GB) of data customer used.\n",
    "* Second, the program will ask how much is the per gigabyte rate.\n",
    "* Third, the program will ask how many years has this person been a customer of the company. \n",
    "    * If the gigabytes used is greater than 100, then the customer will pay base rate for the first 100 GB, and pay __triple__ of that rate for the __extra__ gigabytes.\n",
    "    * Furthermore, if the person has been a customer of the company for more than 2 years, then the person will also receive loyalty discount and the final total bill will be reduced by __20%__ (i.e. x0.8).\n",
    "    \n",
    "Finally, the program should print the internet bill amount of customer."
   ]
  },
  {
   "cell_type": "code",
   "execution_count": null,
   "metadata": {},
   "outputs": [],
   "source": [
    "gb = float(input(\"How many GB of data were used?\"))\n",
    "rate = float(input(\"What is the per GB rate?\"))\n",
    "years = float(input(\"How many years have you been a customer?\"))\n",
    "\n",
    "if gb > 100.0:\n",
    "    bill = (100.0 * rate) + ((gb - 100.0) * (rate * 30.))\n",
    "else:\n",
    "        bill = gb*rate\n",
    "if years > 2.0:\n",
    "    bill = bill * 0.8\n",
    "print(\"Internet bill:\", bill)"
   ]
  },
  {
   "cell_type": "markdown",
   "metadata": {},
   "source": [
    "## Question 3:"
   ]
  },
  {
   "cell_type": "markdown",
   "metadata": {},
   "source": [
    "Write a program that achieves the following:\n",
    "* The program will start with printing the square of 1, and will keep going on printing squares of 2, 3, 4, 5... . This procedure of loop should be automatic and should not require any manual inputting of a list of numbers etc.\n",
    "* In other words, in each iteration, the program will print out the square of the respective number, such as 1, 4, 9, 16, 25...\n",
    "* The program will stop once the square of a number exceeds 200.\n",
    "\n",
    "To give an idea, the output should broadly look like (for brevity, \"...\" below represents the numbers in between):\n",
    "\n",
    "1\n",
    "\n",
    "4\n",
    "\n",
    "...    \n",
    "\n",
    "196\n",
    "\n",
    "225\n"
   ]
  },
  {
   "cell_type": "code",
   "execution_count": 8,
   "metadata": {},
   "outputs": [
    {
     "name": "stdout",
     "output_type": "stream",
     "text": [
      "1\n",
      "4\n",
      "9\n",
      "16\n",
      "25\n",
      "36\n",
      "49\n",
      "64\n",
      "81\n",
      "100\n",
      "121\n",
      "144\n",
      "169\n",
      "196\n",
      "225\n"
     ]
    }
   ],
   "source": [
    "x = 0\n",
    "out = 0\n",
    "while out < 200:\n",
    "    x += 1\n",
    "    out = x**2\n",
    "    print(out)"
   ]
  },
  {
   "cell_type": "markdown",
   "metadata": {},
   "source": [
    "---"
   ]
  },
  {
   "cell_type": "markdown",
   "metadata": {},
   "source": [
    "## Question 4:"
   ]
  },
  {
   "cell_type": "markdown",
   "metadata": {},
   "source": [
    "Consider the following string variable, which consists of a quote by Leonardo Da Vinci, \n",
    "\n",
    "s_var = \"It had long since come to my attention that people of accomplishment rarely sat back and let things happen to them. They went out and happened to things.\"\n",
    "\n",
    "Define this string variable.\n",
    "\n",
    "Write a code that first splits this string variable into individual words, and then constructs a new list variable that consists of these words. Next, your code should count the words in this list that has more than 5 characters. Finally, your code should print out the number of words with more than 5 characters in this string variable."
   ]
  },
  {
   "cell_type": "code",
   "execution_count": null,
   "metadata": {},
   "outputs": [],
   "source": [
    "s_var = \"It had long since come to my attention that people of accomplishment rarely sat back and let things happen to them. They went out and happened to things.\"\n"
   ]
  },
  {
   "cell_type": "markdown",
   "metadata": {},
   "source": [
    "---"
   ]
  },
  {
   "cell_type": "markdown",
   "metadata": {},
   "source": [
    "## __Question 5:__ "
   ]
  },
  {
   "cell_type": "markdown",
   "metadata": {},
   "source": [
    "a) Generate a NumPy array with 25 random integers between -50 and 50, inclusive. Then, reshape this array into a 5x5 matrix. Let's call this matrix M."
   ]
  },
  {
   "cell_type": "code",
   "execution_count": 40,
   "metadata": {},
   "outputs": [
    {
     "name": "stdout",
     "output_type": "stream",
     "text": [
      "[[ 12  10 -42  46 -45]\n",
      " [-37  33 -46  41  -3]\n",
      " [ -5 -41  -8 -20  16]\n",
      " [ -7 -39  40 -50 -27]\n",
      " [ 28 -14 -49 -44 -32]]\n"
     ]
    }
   ],
   "source": [
    "q5_array = np.random.randint(-50, 50, 25)\n",
    "q5_matrix = np.matrix(q5_array).reshape(5,5)\n",
    "print(q5_matrix)"
   ]
  },
  {
   "cell_type": "markdown",
   "metadata": {},
   "source": [
    "b) Calculate the mean, median, standard deviation, minimum, and maximum of the numbers in the matrix M."
   ]
  },
  {
   "cell_type": "code",
   "execution_count": 41,
   "metadata": {},
   "outputs": [
    {
     "name": "stdout",
     "output_type": "stream",
     "text": [
      "Mean: -11.32 St Dev: 31.2253 Min: -50 Max: 46\n"
     ]
    }
   ],
   "source": [
    "average = np.mean(q5_matrix)\n",
    "stdev = round(np.std(q5_matrix), 4)\n",
    "minimum = np.min(q5_matrix)\n",
    "maximum = np.max(q5_matrix)\n",
    "print(\"Mean:\", average, \"St Dev:\", stdev, \"Min:\", minimum, \"Max:\", maximum)"
   ]
  },
  {
   "cell_type": "markdown",
   "metadata": {},
   "source": [
    "c) Multiply the matrix with itself. Also calculate the dot product of matrix M with itself. Are they different? Why? (A one or two sentence explanatory comment would suffice.)"
   ]
  },
  {
   "cell_type": "code",
   "execution_count": 39,
   "metadata": {
    "scrolled": true
   },
   "outputs": [
    {
     "name": "stdout",
     "output_type": "stream",
     "text": [
      "[[ 1641  -842 -2882  2293  2257]\n",
      " [ 1581  3103 -2931  1142  1890]\n",
      " [ -844    -9  1299  1117   881]\n",
      " [ -870 -2163  2211  2579  1521]\n",
      " [-2063  1271   242   403  1230]]\n",
      "[[ 1641  -842 -2882  2293  2257]\n",
      " [ 1581  3103 -2931  1142  1890]\n",
      " [ -844    -9  1299  1117   881]\n",
      " [ -870 -2163  2211  2579  1521]\n",
      " [-2063  1271   242   403  1230]]\n"
     ]
    }
   ],
   "source": [
    "print(q5_matrix * q5_matrix)\n",
    "print(q5_matrix.dot(q5_matrix))"
   ]
  },
  {
   "cell_type": "markdown",
   "metadata": {},
   "source": [
    "The resulting matrices are the same. When NumPy matrices are multiplied together, the dot product is calculated instead of the elementwise products."
   ]
  },
  {
   "cell_type": "markdown",
   "metadata": {},
   "source": [
    "---"
   ]
  }
 ],
 "metadata": {
  "kernelspec": {
   "display_name": "Python 3",
   "language": "python",
   "name": "python3"
  },
  "language_info": {
   "codemirror_mode": {
    "name": "ipython",
    "version": 3
   },
   "file_extension": ".py",
   "mimetype": "text/x-python",
   "name": "python",
   "nbconvert_exporter": "python",
   "pygments_lexer": "ipython3",
   "version": "3.8.5"
  }
 },
 "nbformat": 4,
 "nbformat_minor": 2
}
